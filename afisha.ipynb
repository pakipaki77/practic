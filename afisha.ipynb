{
 "cells": [
  {
   "cell_type": "markdown",
   "metadata": {},
   "source": [
    "<font color='blue'> Привет. Ниже мои комментарии выделены синим. </font>"
   ]
  },
  {
   "cell_type": "markdown",
   "metadata": {},
   "source": [
    "# Приоритизация гипотезы, запуск A/B-теста и анализ результатов."
   ]
  },
  {
   "cell_type": "markdown",
   "metadata": {},
   "source": [
    "## 1.Приоритизация гипотез."
   ]
  },
  {
   "cell_type": "markdown",
   "metadata": {},
   "source": [
    "### Импортируем библиотеки:"
   ]
  },
  {
   "cell_type": "code",
   "execution_count": 78,
   "metadata": {},
   "outputs": [],
   "source": [
    "import pandas as pd\n",
    "import datetime as dt\n",
    "import numpy as np\n",
    "import scipy.stats as stats\n",
    "import matplotlib.pyplot as plt"
   ]
  },
  {
   "cell_type": "markdown",
   "metadata": {},
   "source": [
    "### Импортируем данные:"
   ]
  },
  {
   "cell_type": "code",
   "execution_count": 79,
   "metadata": {},
   "outputs": [],
   "source": [
    "data = pd.read_csv('/datasets/hypothesis.csv')\n",
    "orders = pd.read_csv('/datasets/orders.csv')\n",
    "visitors = pd.read_csv('/datasets/visitors.csv')"
   ]
  },
  {
   "cell_type": "code",
   "execution_count": 80,
   "metadata": {},
   "outputs": [
    {
     "data": {
      "text/html": [
       "<div>\n",
       "<style scoped>\n",
       "    .dataframe tbody tr th:only-of-type {\n",
       "        vertical-align: middle;\n",
       "    }\n",
       "\n",
       "    .dataframe tbody tr th {\n",
       "        vertical-align: top;\n",
       "    }\n",
       "\n",
       "    .dataframe thead th {\n",
       "        text-align: right;\n",
       "    }\n",
       "</style>\n",
       "<table border=\"1\" class=\"dataframe\">\n",
       "  <thead>\n",
       "    <tr style=\"text-align: right;\">\n",
       "      <th></th>\n",
       "      <th>Hypothesis</th>\n",
       "      <th>Reach</th>\n",
       "      <th>Impact</th>\n",
       "      <th>Confidence</th>\n",
       "      <th>Efforts</th>\n",
       "    </tr>\n",
       "  </thead>\n",
       "  <tbody>\n",
       "    <tr>\n",
       "      <td>0</td>\n",
       "      <td>Добавить два новых канала привлечения трафика,...</td>\n",
       "      <td>3</td>\n",
       "      <td>10</td>\n",
       "      <td>8</td>\n",
       "      <td>6</td>\n",
       "    </tr>\n",
       "    <tr>\n",
       "      <td>1</td>\n",
       "      <td>Запустить собственную службу доставки, что сок...</td>\n",
       "      <td>2</td>\n",
       "      <td>5</td>\n",
       "      <td>4</td>\n",
       "      <td>10</td>\n",
       "    </tr>\n",
       "    <tr>\n",
       "      <td>2</td>\n",
       "      <td>Добавить блоки рекомендаций товаров на сайт ин...</td>\n",
       "      <td>8</td>\n",
       "      <td>3</td>\n",
       "      <td>7</td>\n",
       "      <td>3</td>\n",
       "    </tr>\n",
       "    <tr>\n",
       "      <td>3</td>\n",
       "      <td>Изменить структура категорий, что увеличит кон...</td>\n",
       "      <td>8</td>\n",
       "      <td>3</td>\n",
       "      <td>3</td>\n",
       "      <td>8</td>\n",
       "    </tr>\n",
       "    <tr>\n",
       "      <td>4</td>\n",
       "      <td>Изменить цвет фона главной страницы, чтобы уве...</td>\n",
       "      <td>3</td>\n",
       "      <td>1</td>\n",
       "      <td>1</td>\n",
       "      <td>1</td>\n",
       "    </tr>\n",
       "    <tr>\n",
       "      <td>5</td>\n",
       "      <td>Добавить страницу отзывов клиентов о магазине,...</td>\n",
       "      <td>3</td>\n",
       "      <td>2</td>\n",
       "      <td>2</td>\n",
       "      <td>3</td>\n",
       "    </tr>\n",
       "    <tr>\n",
       "      <td>6</td>\n",
       "      <td>Показать на главной странице баннеры с актуаль...</td>\n",
       "      <td>5</td>\n",
       "      <td>3</td>\n",
       "      <td>8</td>\n",
       "      <td>3</td>\n",
       "    </tr>\n",
       "    <tr>\n",
       "      <td>7</td>\n",
       "      <td>Добавить форму подписки на все основные страни...</td>\n",
       "      <td>10</td>\n",
       "      <td>7</td>\n",
       "      <td>8</td>\n",
       "      <td>5</td>\n",
       "    </tr>\n",
       "    <tr>\n",
       "      <td>8</td>\n",
       "      <td>Запустить акцию, дающую скидку на товар в день...</td>\n",
       "      <td>1</td>\n",
       "      <td>9</td>\n",
       "      <td>9</td>\n",
       "      <td>5</td>\n",
       "    </tr>\n",
       "  </tbody>\n",
       "</table>\n",
       "</div>"
      ],
      "text/plain": [
       "                                          Hypothesis  Reach  Impact  \\\n",
       "0  Добавить два новых канала привлечения трафика,...      3      10   \n",
       "1  Запустить собственную службу доставки, что сок...      2       5   \n",
       "2  Добавить блоки рекомендаций товаров на сайт ин...      8       3   \n",
       "3  Изменить структура категорий, что увеличит кон...      8       3   \n",
       "4  Изменить цвет фона главной страницы, чтобы уве...      3       1   \n",
       "5  Добавить страницу отзывов клиентов о магазине,...      3       2   \n",
       "6  Показать на главной странице баннеры с актуаль...      5       3   \n",
       "7  Добавить форму подписки на все основные страни...     10       7   \n",
       "8  Запустить акцию, дающую скидку на товар в день...      1       9   \n",
       "\n",
       "   Confidence  Efforts  \n",
       "0           8        6  \n",
       "1           4       10  \n",
       "2           7        3  \n",
       "3           3        8  \n",
       "4           1        1  \n",
       "5           2        3  \n",
       "6           8        3  \n",
       "7           8        5  \n",
       "8           9        5  "
      ]
     },
     "execution_count": 80,
     "metadata": {},
     "output_type": "execute_result"
    }
   ],
   "source": [
    "data"
   ]
  },
  {
   "cell_type": "markdown",
   "metadata": {},
   "source": [
    "Hypothesis — краткое описание гипотезы;\n",
    "\n",
    "Reach — охват пользователей по 10-балльной шкале;\n",
    "\n",
    "Impact — влияние на пользователей по 10-балльной шкале;\n",
    "\n",
    "Confidence — уверенность в гипотезе по 10-балльной шкале;\n",
    "\n",
    "Efforts — затраты ресурсов на проверку гипотезы по 10-балльной шкале. Чем больше значение Efforts, тем дороже проверка гипотезы."
   ]
  },
  {
   "cell_type": "markdown",
   "metadata": {},
   "source": [
    "### Применяем фреймворк ICE для приоритизации гипотез. Сортируем их по убыванию приоритета."
   ]
  },
  {
   "cell_type": "code",
   "execution_count": 81,
   "metadata": {},
   "outputs": [
    {
     "data": {
      "text/html": [
       "<div>\n",
       "<style scoped>\n",
       "    .dataframe tbody tr th:only-of-type {\n",
       "        vertical-align: middle;\n",
       "    }\n",
       "\n",
       "    .dataframe tbody tr th {\n",
       "        vertical-align: top;\n",
       "    }\n",
       "\n",
       "    .dataframe thead th {\n",
       "        text-align: right;\n",
       "    }\n",
       "</style>\n",
       "<table border=\"1\" class=\"dataframe\">\n",
       "  <thead>\n",
       "    <tr style=\"text-align: right;\">\n",
       "      <th></th>\n",
       "      <th>Hypothesis</th>\n",
       "      <th>ICE</th>\n",
       "    </tr>\n",
       "  </thead>\n",
       "  <tbody>\n",
       "    <tr>\n",
       "      <td>8</td>\n",
       "      <td>Запустить акцию, дающую скидку на товар в день...</td>\n",
       "      <td>16.200000</td>\n",
       "    </tr>\n",
       "    <tr>\n",
       "      <td>0</td>\n",
       "      <td>Добавить два новых канала привлечения трафика,...</td>\n",
       "      <td>13.333333</td>\n",
       "    </tr>\n",
       "    <tr>\n",
       "      <td>7</td>\n",
       "      <td>Добавить форму подписки на все основные страни...</td>\n",
       "      <td>11.200000</td>\n",
       "    </tr>\n",
       "    <tr>\n",
       "      <td>6</td>\n",
       "      <td>Показать на главной странице баннеры с актуаль...</td>\n",
       "      <td>8.000000</td>\n",
       "    </tr>\n",
       "    <tr>\n",
       "      <td>2</td>\n",
       "      <td>Добавить блоки рекомендаций товаров на сайт ин...</td>\n",
       "      <td>7.000000</td>\n",
       "    </tr>\n",
       "    <tr>\n",
       "      <td>1</td>\n",
       "      <td>Запустить собственную службу доставки, что сок...</td>\n",
       "      <td>2.000000</td>\n",
       "    </tr>\n",
       "    <tr>\n",
       "      <td>5</td>\n",
       "      <td>Добавить страницу отзывов клиентов о магазине,...</td>\n",
       "      <td>1.333333</td>\n",
       "    </tr>\n",
       "    <tr>\n",
       "      <td>3</td>\n",
       "      <td>Изменить структура категорий, что увеличит кон...</td>\n",
       "      <td>1.125000</td>\n",
       "    </tr>\n",
       "    <tr>\n",
       "      <td>4</td>\n",
       "      <td>Изменить цвет фона главной страницы, чтобы уве...</td>\n",
       "      <td>1.000000</td>\n",
       "    </tr>\n",
       "  </tbody>\n",
       "</table>\n",
       "</div>"
      ],
      "text/plain": [
       "                                          Hypothesis        ICE\n",
       "8  Запустить акцию, дающую скидку на товар в день...  16.200000\n",
       "0  Добавить два новых канала привлечения трафика,...  13.333333\n",
       "7  Добавить форму подписки на все основные страни...  11.200000\n",
       "6  Показать на главной странице баннеры с актуаль...   8.000000\n",
       "2  Добавить блоки рекомендаций товаров на сайт ин...   7.000000\n",
       "1  Запустить собственную службу доставки, что сок...   2.000000\n",
       "5  Добавить страницу отзывов клиентов о магазине,...   1.333333\n",
       "3  Изменить структура категорий, что увеличит кон...   1.125000\n",
       "4  Изменить цвет фона главной страницы, чтобы уве...   1.000000"
      ]
     },
     "execution_count": 81,
     "metadata": {},
     "output_type": "execute_result"
    }
   ],
   "source": [
    "#ICE score = (impact * confidence)/efforts\n",
    "data['ICE']= (data['Impact'] * data['Confidence']) / data['Efforts']\n",
    "data[['Hypothesis','ICE']].sort_values(by= 'ICE',ascending= False )"
   ]
  },
  {
   "cell_type": "markdown",
   "metadata": {},
   "source": [
    "Наиболее перспективные гиппотезы 8, 0, 7, 6."
   ]
  },
  {
   "cell_type": "markdown",
   "metadata": {},
   "source": [
    "### Считаем фреймворк RICE:"
   ]
  },
  {
   "cell_type": "code",
   "execution_count": 82,
   "metadata": {},
   "outputs": [
    {
     "name": "stdout",
     "output_type": "stream",
     "text": [
      "                                          Hypothesis   RICE\n",
      "7  Добавить форму подписки на все основные страни...  112.0\n",
      "2  Добавить блоки рекомендаций товаров на сайт ин...   56.0\n",
      "0  Добавить два новых канала привлечения трафика,...   40.0\n",
      "6  Показать на главной странице баннеры с актуаль...   40.0\n",
      "8  Запустить акцию, дающую скидку на товар в день...   16.2\n",
      "3  Изменить структура категорий, что увеличит кон...    9.0\n",
      "1  Запустить собственную службу доставки, что сок...    4.0\n",
      "5  Добавить страницу отзывов клиентов о магазине,...    4.0\n",
      "4  Изменить цвет фона главной страницы, чтобы уве...    3.0\n"
     ]
    }
   ],
   "source": [
    "data['RICE'] = (data['Reach'] * data['Impact'] * data['Confidence'])\\\n",
    "/ data['Efforts']\n",
    "\n",
    "print(data[['Hypothesis','RICE']].sort_values(by= 'RICE',ascending= False ))"
   ]
  },
  {
   "cell_type": "markdown",
   "metadata": {},
   "source": [
    "Здесь самые перспективные 7, 2, 0, 6. Гипотеза 8 опустилась на 5 место из за очент низкого охвата пользователей при других высоких показателях. А у гиппотезы 7 reach максимальный.\n",
    "\n",
    "\n",
    "<font color='blue'> Параметры рассчитаны верно. </font>"
   ]
  },
  {
   "cell_type": "markdown",
   "metadata": {},
   "source": [
    "### 2. Анализ A/B-теста"
   ]
  },
  {
   "cell_type": "code",
   "execution_count": 83,
   "metadata": {},
   "outputs": [
    {
     "data": {
      "text/html": [
       "<div>\n",
       "<style scoped>\n",
       "    .dataframe tbody tr th:only-of-type {\n",
       "        vertical-align: middle;\n",
       "    }\n",
       "\n",
       "    .dataframe tbody tr th {\n",
       "        vertical-align: top;\n",
       "    }\n",
       "\n",
       "    .dataframe thead th {\n",
       "        text-align: right;\n",
       "    }\n",
       "</style>\n",
       "<table border=\"1\" class=\"dataframe\">\n",
       "  <thead>\n",
       "    <tr style=\"text-align: right;\">\n",
       "      <th></th>\n",
       "      <th>transactionId</th>\n",
       "      <th>visitorId</th>\n",
       "      <th>date</th>\n",
       "      <th>revenue</th>\n",
       "      <th>group</th>\n",
       "    </tr>\n",
       "  </thead>\n",
       "  <tbody>\n",
       "    <tr>\n",
       "      <td>0</td>\n",
       "      <td>3667963787</td>\n",
       "      <td>3312258926</td>\n",
       "      <td>2019-08-15</td>\n",
       "      <td>1650</td>\n",
       "      <td>B</td>\n",
       "    </tr>\n",
       "    <tr>\n",
       "      <td>1</td>\n",
       "      <td>2804400009</td>\n",
       "      <td>3642806036</td>\n",
       "      <td>2019-08-15</td>\n",
       "      <td>730</td>\n",
       "      <td>B</td>\n",
       "    </tr>\n",
       "    <tr>\n",
       "      <td>2</td>\n",
       "      <td>2961555356</td>\n",
       "      <td>4069496402</td>\n",
       "      <td>2019-08-15</td>\n",
       "      <td>400</td>\n",
       "      <td>A</td>\n",
       "    </tr>\n",
       "    <tr>\n",
       "      <td>3</td>\n",
       "      <td>3797467345</td>\n",
       "      <td>1196621759</td>\n",
       "      <td>2019-08-15</td>\n",
       "      <td>9759</td>\n",
       "      <td>B</td>\n",
       "    </tr>\n",
       "    <tr>\n",
       "      <td>4</td>\n",
       "      <td>2282983706</td>\n",
       "      <td>2322279887</td>\n",
       "      <td>2019-08-15</td>\n",
       "      <td>2308</td>\n",
       "      <td>B</td>\n",
       "    </tr>\n",
       "    <tr>\n",
       "      <td>...</td>\n",
       "      <td>...</td>\n",
       "      <td>...</td>\n",
       "      <td>...</td>\n",
       "      <td>...</td>\n",
       "      <td>...</td>\n",
       "    </tr>\n",
       "    <tr>\n",
       "      <td>1192</td>\n",
       "      <td>2662137336</td>\n",
       "      <td>3733762160</td>\n",
       "      <td>2019-08-14</td>\n",
       "      <td>6490</td>\n",
       "      <td>B</td>\n",
       "    </tr>\n",
       "    <tr>\n",
       "      <td>1193</td>\n",
       "      <td>2203539145</td>\n",
       "      <td>370388673</td>\n",
       "      <td>2019-08-14</td>\n",
       "      <td>3190</td>\n",
       "      <td>A</td>\n",
       "    </tr>\n",
       "    <tr>\n",
       "      <td>1194</td>\n",
       "      <td>1807773912</td>\n",
       "      <td>573423106</td>\n",
       "      <td>2019-08-14</td>\n",
       "      <td>10550</td>\n",
       "      <td>A</td>\n",
       "    </tr>\n",
       "    <tr>\n",
       "      <td>1195</td>\n",
       "      <td>1947021204</td>\n",
       "      <td>1614305549</td>\n",
       "      <td>2019-08-14</td>\n",
       "      <td>100</td>\n",
       "      <td>A</td>\n",
       "    </tr>\n",
       "    <tr>\n",
       "      <td>1196</td>\n",
       "      <td>3936777065</td>\n",
       "      <td>2108080724</td>\n",
       "      <td>2019-08-15</td>\n",
       "      <td>202740</td>\n",
       "      <td>B</td>\n",
       "    </tr>\n",
       "  </tbody>\n",
       "</table>\n",
       "<p>1197 rows × 5 columns</p>\n",
       "</div>"
      ],
      "text/plain": [
       "      transactionId   visitorId        date  revenue group\n",
       "0        3667963787  3312258926  2019-08-15     1650     B\n",
       "1        2804400009  3642806036  2019-08-15      730     B\n",
       "2        2961555356  4069496402  2019-08-15      400     A\n",
       "3        3797467345  1196621759  2019-08-15     9759     B\n",
       "4        2282983706  2322279887  2019-08-15     2308     B\n",
       "...             ...         ...         ...      ...   ...\n",
       "1192     2662137336  3733762160  2019-08-14     6490     B\n",
       "1193     2203539145   370388673  2019-08-14     3190     A\n",
       "1194     1807773912   573423106  2019-08-14    10550     A\n",
       "1195     1947021204  1614305549  2019-08-14      100     A\n",
       "1196     3936777065  2108080724  2019-08-15   202740     B\n",
       "\n",
       "[1197 rows x 5 columns]"
      ]
     },
     "execution_count": 83,
     "metadata": {},
     "output_type": "execute_result"
    }
   ],
   "source": [
    "orders.head(10)#выводим таблицу заказов\n",
    "orders"
   ]
  },
  {
   "cell_type": "markdown",
   "metadata": {},
   "source": [
    "transactionId — идентификатор заказа;\n",
    "\n",
    "visitorId — идентификатор пользователя, совершившего заказ;\n",
    "\n",
    "date — дата, когда был совершён заказ;\n",
    "\n",
    "revenue — выручка заказа;\n",
    "\n",
    "group — группа A/B-теста, в которую попал заказ."
   ]
  },
  {
   "cell_type": "code",
   "execution_count": 84,
   "metadata": {},
   "outputs": [
    {
     "data": {
      "text/html": [
       "<div>\n",
       "<style scoped>\n",
       "    .dataframe tbody tr th:only-of-type {\n",
       "        vertical-align: middle;\n",
       "    }\n",
       "\n",
       "    .dataframe tbody tr th {\n",
       "        vertical-align: top;\n",
       "    }\n",
       "\n",
       "    .dataframe thead th {\n",
       "        text-align: right;\n",
       "    }\n",
       "</style>\n",
       "<table border=\"1\" class=\"dataframe\">\n",
       "  <thead>\n",
       "    <tr style=\"text-align: right;\">\n",
       "      <th></th>\n",
       "      <th>date</th>\n",
       "      <th>group</th>\n",
       "      <th>visitors</th>\n",
       "    </tr>\n",
       "  </thead>\n",
       "  <tbody>\n",
       "    <tr>\n",
       "      <td>0</td>\n",
       "      <td>2019-08-01</td>\n",
       "      <td>A</td>\n",
       "      <td>719</td>\n",
       "    </tr>\n",
       "    <tr>\n",
       "      <td>1</td>\n",
       "      <td>2019-08-02</td>\n",
       "      <td>A</td>\n",
       "      <td>619</td>\n",
       "    </tr>\n",
       "    <tr>\n",
       "      <td>2</td>\n",
       "      <td>2019-08-03</td>\n",
       "      <td>A</td>\n",
       "      <td>507</td>\n",
       "    </tr>\n",
       "    <tr>\n",
       "      <td>3</td>\n",
       "      <td>2019-08-04</td>\n",
       "      <td>A</td>\n",
       "      <td>717</td>\n",
       "    </tr>\n",
       "    <tr>\n",
       "      <td>4</td>\n",
       "      <td>2019-08-05</td>\n",
       "      <td>A</td>\n",
       "      <td>756</td>\n",
       "    </tr>\n",
       "    <tr>\n",
       "      <td>5</td>\n",
       "      <td>2019-08-06</td>\n",
       "      <td>A</td>\n",
       "      <td>667</td>\n",
       "    </tr>\n",
       "    <tr>\n",
       "      <td>6</td>\n",
       "      <td>2019-08-07</td>\n",
       "      <td>A</td>\n",
       "      <td>644</td>\n",
       "    </tr>\n",
       "    <tr>\n",
       "      <td>7</td>\n",
       "      <td>2019-08-08</td>\n",
       "      <td>A</td>\n",
       "      <td>610</td>\n",
       "    </tr>\n",
       "    <tr>\n",
       "      <td>8</td>\n",
       "      <td>2019-08-09</td>\n",
       "      <td>A</td>\n",
       "      <td>617</td>\n",
       "    </tr>\n",
       "    <tr>\n",
       "      <td>9</td>\n",
       "      <td>2019-08-10</td>\n",
       "      <td>A</td>\n",
       "      <td>406</td>\n",
       "    </tr>\n",
       "  </tbody>\n",
       "</table>\n",
       "</div>"
      ],
      "text/plain": [
       "         date group  visitors\n",
       "0  2019-08-01     A       719\n",
       "1  2019-08-02     A       619\n",
       "2  2019-08-03     A       507\n",
       "3  2019-08-04     A       717\n",
       "4  2019-08-05     A       756\n",
       "5  2019-08-06     A       667\n",
       "6  2019-08-07     A       644\n",
       "7  2019-08-08     A       610\n",
       "8  2019-08-09     A       617\n",
       "9  2019-08-10     A       406"
      ]
     },
     "execution_count": 84,
     "metadata": {},
     "output_type": "execute_result"
    }
   ],
   "source": [
    "visitors.head(10)#выводим таблицу пользователей"
   ]
  },
  {
   "cell_type": "markdown",
   "metadata": {},
   "source": [
    "date — дата;\n",
    "\n",
    "group — группа A/B-теста;\n",
    "\n",
    "visitors — количество пользователей в указанную дату в указанной группе A/B-теста"
   ]
  },
  {
   "cell_type": "markdown",
   "metadata": {},
   "source": [
    "### Строим график кумулятивной выручки по группам:\n"
   ]
  },
  {
   "cell_type": "code",
   "execution_count": 85,
   "metadata": {},
   "outputs": [],
   "source": [
    "#переводим дату в формат datetime\n",
    "orders['date'] = pd.to_datetime(orders['date'])\n",
    "visitors['date'] = pd.to_datetime(visitors['date'])\n",
    "#создаем переменную datesGroups и удаляем дубликаты\n",
    "datesGroups = orders[['date','group']].drop_duplicates()\n",
    "# создаем таблицы ordersAggregated и visitorsAggregated\n",
    "ordersAggregated = datesGroups.apply(\n",
    "\tlambda x: orders[np.logical_and(orders['date'] <= x['date'], orders['group'] == x['group'])].\\\n",
    "    agg({\n",
    "'date' : 'max',\n",
    "'group' : 'max',\n",
    "'transactionId' : pd.Series.nunique,\n",
    "'visitorId' : pd.Series.nunique,\n",
    "'revenue' : 'sum'}), axis=1).sort_values(by=['date','group'])\n",
    "\n",
    "visitorsAggregated = datesGroups.apply(\n",
    "lambda x: visitors[np.logical_and(visitors['date'] <= x['date'], visitors['group'] == x['group'])].\\\n",
    "agg({\n",
    "'date' : 'max',\n",
    "'group' : 'max',\n",
    "'visitors' : 'sum'}), axis=1).sort_values(by=['date','group'])\n",
    "\n",
    "#объединяем таблицы и присваиваем столбцам названия\n",
    "cummulativeData = ordersAggregated.merge(visitorsAggregated, left_on=['date', 'group'],\\\n",
    "right_on=['date', 'group'])\n",
    "cummulativeData.columns = ['date', 'group', 'orders', 'buyers', 'revenue', 'visitors']\n",
    "#Объявляем переменные cummulativeRevenueA и cummulativeRevenueB, в которых сохраните данные о датах,\\\n",
    "#выручке и числе заказов в группах A и B.\n",
    "# данные по группе A\n",
    "cummulativeRevenueA = cummulativeData[cummulativeData['group']=='A'][['date','revenue', 'orders']]\n",
    "# данные по группе В\n",
    "cummulativeRevenueB = cummulativeData[cummulativeData['group']=='B'][['date','revenue', 'orders']]\n",
    "\n",
    "                 \n",
    "\n"
   ]
  },
  {
   "cell_type": "code",
   "execution_count": 86,
   "metadata": {},
   "outputs": [
    {
     "name": "stdout",
     "output_type": "stream",
     "text": [
      "        date  revenue  orders\n",
      "0 2019-08-01   148579      24\n",
      "2 2019-08-02   242401      44\n",
      "4 2019-08-03   354874      68\n",
      "6 2019-08-04   425699      84\n",
      "8 2019-08-05   549917     109\n"
     ]
    },
    {
     "data": {
      "text/plain": [
       "<matplotlib.legend.Legend at 0x7f47bc1b99d0>"
      ]
     },
     "execution_count": 86,
     "metadata": {},
     "output_type": "execute_result"
    },
    {
     "data": {
      "image/png": "[encoded data removed]",
      "text/plain": [
       "<Figure size 720x360 with 1 Axes>"
      ]
     },
     "metadata": {
      "needs_background": "light"
     },
     "output_type": "display_data"
    }
   ],
   "source": [
    "print(cummulativeRevenueA.head())\n",
    "#задаем размер графика\n",
    "plt.rcParams['figure.figsize'] = [10, 5]\n",
    "\n",
    "plt.plot(cummulativeRevenueA['date'], cummulativeRevenueA['revenue'], label='A')\n",
    "plt.plot(cummulativeRevenueB['date'], cummulativeRevenueB['revenue'], label='B')\n",
    "\n",
    "plt.legend()"
   ]
  },
  {
   "cell_type": "markdown",
   "metadata": {},
   "source": [
    "Выручка А практически равномерно увеличивается на протяжении всего теста. В графике В видим в одном месте резкий скачок.Это может говорить о всплесках числа заказов, либо о появлении очень дорогих заказов в выборке. Такие выбросы проанализируем ниже.\n",
    "\n",
    "<font color='blue'> Хорошо, а чем можно объяснить этот скачок? </font>"
   ]
  },
  {
   "cell_type": "code",
   "execution_count": null,
   "metadata": {},
   "outputs": [],
   "source": []
  },
  {
   "cell_type": "markdown",
   "metadata": {},
   "source": [
    "### Строим график кумулятивного среднего чека по группам. "
   ]
  },
  {
   "cell_type": "code",
   "execution_count": 87,
   "metadata": {},
   "outputs": [
    {
     "data": {
      "text/plain": [
       "<matplotlib.legend.Legend at 0x7f47bc13b490>"
      ]
     },
     "execution_count": 87,
     "metadata": {},
     "output_type": "execute_result"
    },
    {
     "data": {
      "image/png": "[encoded data removed]",
      "text/plain": [
       "<Figure size 720x360 with 1 Axes>"
      ]
     },
     "metadata": {
      "needs_background": "light"
     },
     "output_type": "display_data"
    }
   ],
   "source": [
    "#разделим кумулятивную выручку на число заказов\n",
    "plt.plot(cummulativeRevenueA['date'], cummulativeRevenueA['revenue']/cummulativeRevenueA['orders'],\\\n",
    "label='A')\n",
    "plt.plot(cummulativeRevenueB['date'], cummulativeRevenueB['revenue']/cummulativeRevenueB['orders'],\\\n",
    "label='B')\n",
    "plt.legend()"
   ]
  },
  {
   "cell_type": "markdown",
   "metadata": {},
   "source": [
    "В среднем чеке В наблюдаем резкий скачок в том же месте, что и выручка.Думаю, в группу B в этом месте попали крупные заказы (резкий всплеск на графике). Тогда ей нужно больше данных, чтобы прийти к реальному среднему чеку и установиться на уровне. Средний чек А сперва резко падает, потом растет, где-то с середины теста более менее равномерен\n",
    "\n",
    "<font color='blue'> Отлично, опять же надо предположить причины скачка. </font>"
   ]
  },
  {
   "cell_type": "markdown",
   "metadata": {},
   "source": [
    "### Строим график относительного изменения кумулятивного среднего чека группы B к группе A."
   ]
  },
  {
   "cell_type": "code",
   "execution_count": 88,
   "metadata": {},
   "outputs": [
    {
     "data": {
      "text/plain": [
       "<matplotlib.lines.Line2D at 0x7f47bc80e890>"
      ]
     },
     "execution_count": 88,
     "metadata": {},
     "output_type": "execute_result"
    },
    {
     "data": {
      "image/png": "[encoded data removed]",
      "text/plain": [
       "<Figure size 720x360 with 1 Axes>"
      ]
     },
     "metadata": {
      "needs_background": "light"
     },
     "output_type": "display_data"
    }
   ],
   "source": [
    "#соединяем таблицы кумулятивных данных\n",
    "mergedCummulativeRevenue = cummulativeRevenueA.merge(cummulativeRevenueB, left_on='date',\\\n",
    "right_on='date', how='left', suffixes=['A', 'B'])\n",
    "# строим график кумулятивной выручки В к А\n",
    "plt.plot(mergedCummulativeRevenue['date'], (mergedCummulativeRevenue['revenueB']/mergedCummulativeRevenue['ordersB'])/\n",
    "(mergedCummulativeRevenue['revenueA']/mergedCummulativeRevenue['ordersA'])-1)\n",
    "#добавляем среднюю 0 линию\n",
    "plt.axhline(y=0, color='black', linestyle='--')"
   ]
  },
  {
   "cell_type": "markdown",
   "metadata": {},
   "source": [
    "График различия в нескольких точках резко скачет. Скачок точно повторяет аномальный рост выручки и среднего чека группы В. Где-то  точно спрятались крупные заказы и выбросы. Найдём их позже.\n",
    "\n",
    "<font color='blue'> График верный. Только опять нет причин и предположений по поводу поведения, отображенного на графике. Здесь важно отметить демонстрируют ли графики какую то общую картину. </font>"
   ]
  },
  {
   "cell_type": "markdown",
   "metadata": {},
   "source": [
    "### График кумулятивной конверсии по группам:\n",
    "    "
   ]
  },
  {
   "cell_type": "code",
   "execution_count": 89,
   "metadata": {},
   "outputs": [
    {
     "data": {
      "text/plain": [
       "<matplotlib.legend.Legend at 0x7f47bc05d990>"
      ]
     },
     "execution_count": 89,
     "metadata": {},
     "output_type": "execute_result"
    },
    {
     "data": {
      "image/png": "[encoded data removed]",
      "text/plain": [
       "<Figure size 720x360 with 1 Axes>"
      ]
     },
     "metadata": {
      "needs_background": "light"
     },
     "output_type": "display_data"
    }
   ],
   "source": [
    "# считаем кумулятивную конверсию\n",
    "cummulativeData['conversion'] = cummulativeData['orders']/cummulativeData['visitors']\n",
    "# данные по группе A\n",
    "cummulativeDataA = cummulativeData[cummulativeData['group']=='A']\n",
    "\n",
    "# данные по группе B\n",
    "cummulativeDataB = cummulativeData[cummulativeData['group']=='B']\n",
    "# строим графики\n",
    "plt.plot(cummulativeDataA['date'], cummulativeDataA['conversion'], label='A')\n",
    "plt.plot(cummulativeDataB['date'], cummulativeDataB['conversion'], label='B')\n",
    "plt.legend()\n",
    "\n",
    "\n",
    "\n"
   ]
  },
  {
   "cell_type": "markdown",
   "metadata": {},
   "source": [
    " В начале конверсия группы В проигрывала. Конверсии обеих групп после резкого взлета одновременно упали,  около одного значения, но затем конверсия группы В вырвалась вперёд, а конверсия группы А просела.Поведение графиков опять подтверждает подозрение на наличие выбросов в группе В. "
   ]
  },
  {
   "cell_type": "markdown",
   "metadata": {},
   "source": [
    "### Cтроим график относительного изменения кумулятивной конверсии группы B к группе A."
   ]
  },
  {
   "cell_type": "code",
   "execution_count": 90,
   "metadata": {},
   "outputs": [
    {
     "data": {
      "text/plain": [
       "<matplotlib.lines.Line2D at 0x7f47bbf69fd0>"
      ]
     },
     "execution_count": 90,
     "metadata": {},
     "output_type": "execute_result"
    },
    {
     "data": {
      "image/png": "[encoded data removed]",
      "text/plain": [
       "<Figure size 720x360 with 1 Axes>"
      ]
     },
     "metadata": {
      "needs_background": "light"
     },
     "output_type": "display_data"
    }
   ],
   "source": [
    "#создаем общую таблицу с данными  о дате и кумулятивной конверсии\n",
    "mergedCummulativeConversions = cummulativeDataA[['date','conversion']].\\\n",
    "merge(cummulativeDataB[['date','conversion']], left_on='date', right_on='date',\\\n",
    "how='left', suffixes=['A', 'B'])\n",
    "#строим график\n",
    "plt.plot(mergedCummulativeConversions['date'], mergedCummulativeConversions['conversionB']/\\\n",
    "mergedCummulativeConversions['conversionA']-1, label=\"Относительный прирост конверсии группы B \\\n",
    "относительно группы A\")\n",
    "plt.legend()\n",
    "#\n",
    "plt.axhline(y=0, color='black', linestyle='--')\n",
    "plt.axhline(y=-0.1, color='grey', linestyle='--')\n",
    "#plt.axis([\"2019-04-01\", '2019-04-23', -0.6, 0.6])"
   ]
  },
  {
   "cell_type": "markdown",
   "metadata": {},
   "source": [
    "В начале теста группа B значительно проигрывала группе A, затем вырвалась вперёд. Потом её конверсия упала. Затем сильно выросла и продолжает держаться на высоком уровне постепенно понижаясь. Группа В уже подозревалась в наличии выбро\n",
    "\n",
    "<font color='blue'> Опять же графики верны, но нет полного пояснения к ним. Ты описываешь картинку, но не объясняешь причины. </font>"
   ]
  },
  {
   "cell_type": "markdown",
   "metadata": {},
   "source": [
    "### Строим точечный график количества заказов по пользователям:"
   ]
  },
  {
   "cell_type": "code",
   "execution_count": 91,
   "metadata": {},
   "outputs": [
    {
     "data": {
      "text/plain": [
       "<matplotlib.collections.PathCollection at 0x7f47bbf313d0>"
      ]
     },
     "execution_count": 91,
     "metadata": {},
     "output_type": "execute_result"
    },
    {
     "data": {
      "image/png": "[encoded data removed]",
      "text/plain": [
       "<Figure size 720x360 with 1 Axes>"
      ]
     },
     "metadata": {
      "needs_background": "light"
     },
     "output_type": "display_data"
    }
   ],
   "source": [
    "#группируем таблицу по пользователям\n",
    "ordersByUsers = orders.groupby('visitorId').agg({'transactionId': pd.Series.nunique}).reset_index()\n",
    "\n",
    "plt.scatter(ordersByUsers['visitorId'], ordersByUsers['transactionId'])\n",
    "#ordersByUsers"
   ]
  },
  {
   "cell_type": "markdown",
   "metadata": {},
   "source": [
    "Большинство пользователей делают по одному заказу. Гораздо меньше два. Больше трех уже аномалия."
   ]
  },
  {
   "cell_type": "markdown",
   "metadata": {},
   "source": [
    "### Посчитаем 95-й и 99-й перцентили количества заказов на пользователя. Выберем границу для определения аномальных пользователей."
   ]
  },
  {
   "cell_type": "code",
   "execution_count": 92,
   "metadata": {},
   "outputs": [
    {
     "data": {
      "text/plain": [
       "array([1., 2., 4.])"
      ]
     },
     "execution_count": 92,
     "metadata": {},
     "output_type": "execute_result"
    }
   ],
   "source": [
    "np.percentile(ordersByUsers['transactionId'], [90, 95, 99])"
   ]
  },
  {
   "cell_type": "markdown",
   "metadata": {},
   "source": [
    "Не более 5 процентов пользователей делали 2 заказа.Разумно выбрать 3 заказа на пользователя в качестве нижней границы.Пользователи, совершившие много заказов, влияют на числитель формулы конверсии. Скорее всего, их поведение отличается от нормального. Если речь не идёт об интернет-магазине с регулярным спросом, «обычный» пользователь совершает не больше двух заказов за короткий срок.\n",
    "\n",
    "<font color='blue'> Хорошо. </font>"
   ]
  },
  {
   "cell_type": "markdown",
   "metadata": {},
   "source": [
    "### Построим точечный график стоимостей заказов."
   ]
  },
  {
   "cell_type": "code",
   "execution_count": 93,
   "metadata": {},
   "outputs": [
    {
     "data": {
      "text/plain": [
       "<matplotlib.collections.PathCollection at 0x7f47bbea6610>"
      ]
     },
     "execution_count": 93,
     "metadata": {},
     "output_type": "execute_result"
    },
    {
     "data": {
      "image/png": "[encoded data removed]",
      "text/plain": [
       "<Figure size 720x360 with 1 Axes>"
      ]
     },
     "metadata": {
      "needs_background": "light"
     },
     "output_type": "display_data"
    }
   ],
   "source": [
    "x_values = pd.Series(range(0,len(orders['revenue'])))\n",
    "plt.scatter(x_values, orders['revenue'])"
   ]
  },
  {
   "cell_type": "markdown",
   "metadata": {},
   "source": [
    "Есть немного дорогих заказов.Принято отсеивать от 1% до 5% наблюдений с крайними значениями.Посчитаем 95-й и 99-й перцентили стоимости заказов."
   ]
  },
  {
   "cell_type": "code",
   "execution_count": 94,
   "metadata": {},
   "outputs": [
    {
     "data": {
      "text/plain": [
       "array([18168. , 28000. , 58233.2])"
      ]
     },
     "execution_count": 94,
     "metadata": {},
     "output_type": "execute_result"
    }
   ],
   "source": [
    "np.percentile(orders['revenue'], [90, 95, 99])\n",
    "#orders['revenue'].sort_values()"
   ]
  },
  {
   "cell_type": "markdown",
   "metadata": {},
   "source": [
    "На графике видны единичные очень дорогие заказы, которые явно  изкажают картину изменения среднего чека и выручки. Так как нам неизвестно продажу чего мы анализируем, ни одержание гипотез, причину таких выбросов определить затруднительно. Можем только сравнивать выборки количественно.  Думаю логично принять за аномалию заказ более 28000 руб\n",
    "\n",
    "<font color='blue'> Хорошо. Но на графике видны явные аномалии их роль нужно объяснить. Плюс, за уровень округления лучше принять именно квантиль, не округляй, возьми то число, какое есть, чтоб было понятно откуда это взято. </font>"
   ]
  },
  {
   "cell_type": "markdown",
   "metadata": {},
   "source": [
    "### Посчитаем статистическую значимость различий в конверсии между группами по «сырым» данным. "
   ]
  },
  {
   "cell_type": "code",
   "execution_count": 95,
   "metadata": {},
   "outputs": [
    {
     "name": "stdout",
     "output_type": "stream",
     "text": [
      "        date  ordersPerDateA  revenuePerDateA  ordersPerDateB  \\\n",
      "0 2019-08-01              24           148579              21   \n",
      "1 2019-08-02              20            93822              24   \n",
      "2 2019-08-03              24           112473              16   \n",
      "3 2019-08-04              16            70825              17   \n",
      "4 2019-08-05              25           124218              23   \n",
      "\n",
      "   revenuePerDateB  ordersCummulativeA  revenueCummulativeA  \\\n",
      "0           101217                  24               148579   \n",
      "1           165531                  44               242401   \n",
      "2           114248                  68               354874   \n",
      "3           108571                  84               425699   \n",
      "4            92428                 109               549917   \n",
      "\n",
      "   ordersCummulativeB  revenueCummulativeB  visitorsPerDateA  \\\n",
      "0                  21               101217               719   \n",
      "1                  45               266748               619   \n",
      "2                  61               380996               507   \n",
      "3                  78               489567               717   \n",
      "4                 101               581995               756   \n",
      "\n",
      "   visitorsPerDateB  visitorsCummulativeA  visitorsCummulativeB  \n",
      "0               713                   719                   713  \n",
      "1               581                  1338                  1294  \n",
      "2               509                  1845                  1803  \n",
      "3               770                  2562                  2573  \n",
      "4               707                  3318                  3280  \n",
      "0.00840\n",
      "0.138\n"
     ]
    }
   ],
   "source": [
    "#таблица для гуппы А\n",
    "visitorsADaily=visitors[visitors['group']=='A'][['date', 'visitors']]\n",
    "visitorsADaily.columns = ['date', 'visitorsPerDateA']\n",
    "# агрегируем таблицу с кумулятивными данными по визитам\n",
    "visitorsACummulative = visitorsADaily.apply(lambda x: visitorsADaily[visitorsADaily['date'] \\\n",
    "<= x['date']].agg({'date' : 'max', 'visitorsPerDateA' : 'sum'}), axis=1)\n",
    "visitorsACummulative.columns = ['date', 'visitorsCummulativeA']\n",
    "# для группы В\n",
    "visitorsBDaily = visitors[visitors['group']=='B'][['date', 'visitors']]\n",
    "visitorsBDaily.columns = ['date', 'visitorsPerDateB']\n",
    "\n",
    "visitorsBCummulative = visitorsBDaily.apply(lambda x: visitorsBDaily[visitorsBDaily['date'] <= \\\n",
    "x['date']].agg({'date' : 'max', 'visitorsPerDateB' : 'sum'}), axis=1)\n",
    "visitorsBCummulative.columns = ['date', 'visitorsCummulativeB']\n",
    "#создаем таблицы для А и В с агрегироваными данными по заказам и выручке\n",
    "ordersADaily = orders[orders['group']=='A'][['date', 'transactionId', 'visitorId', 'revenue']]\\\n",
    "    .groupby('date', as_index=False)\\\n",
    "    .agg({'transactionId' : pd.Series.nunique, 'revenue' : 'sum'})\n",
    "ordersADaily.columns = ['date', 'ordersPerDateA', 'revenuePerDateA']\n",
    "\n",
    "ordersACummulative = ordersADaily.apply(\n",
    "    lambda x: \\\n",
    "        ordersADaily[ordersADaily['date'] <= x['date']]\\\n",
    "            .agg({\n",
    "                'date' : 'max',\n",
    "                'ordersPerDateA' : 'sum',\n",
    "                'revenuePerDateA' : 'sum'}), axis=1).sort_values(by=['date'])\n",
    "ordersACummulative.columns = ['date', 'ordersCummulativeA', 'revenueCummulativeA']\n",
    "\n",
    "ordersBDaily = orders[orders['group']=='B'][['date', 'transactionId', 'visitorId', 'revenue']]\\\n",
    ".groupby('date', as_index=False).agg({'transactionId' : pd.Series.nunique, 'revenue' : 'sum'})\n",
    "ordersBDaily.columns = ['date', 'ordersPerDateB', 'revenuePerDateB']\n",
    "\n",
    "ordersBCummulative = ordersBDaily.apply(\n",
    "    lambda x: \\\n",
    "        ordersBDaily[ordersBDaily['date'] <= x['date']]\\\n",
    "            .agg({\n",
    "                'date' : 'max',\n",
    "                'ordersPerDateB' : 'sum',\n",
    "                'revenuePerDateB' : 'sum'}), axis=1).sort_values(by=['date'])\n",
    "ordersBCummulative.columns = ['date', 'ordersCummulativeB', 'revenueCummulativeB']\n",
    "#объединяем таблицы\n",
    "data = ordersADaily.merge(ordersBDaily, left_on='date', right_on='date', how='left')\\\n",
    "    .merge(ordersACummulative, left_on='date', right_on='date', how='left')\\\n",
    "    .merge(ordersBCummulative, left_on='date', right_on='date', how='left')\\\n",
    "    .merge(visitorsADaily, left_on='date', right_on='date', how='left')\\\n",
    "    .merge(visitorsBDaily, left_on='date', right_on='date', how='left')\\\n",
    "    .merge(visitorsACummulative, left_on='date', right_on='date', how='left')\\\n",
    "    .merge(visitorsBCummulative, left_on='date', right_on='date', how='left')\n",
    "\n",
    "print(data.head(5))\n",
    "#Создадим переменные ordersByUsersA и ordersByUsersB со столбцами ['userId', 'orders']. \n",
    "#В них для пользователей, которые заказывали хотя бы 1 раз, укажем число совершённых заказов.\n",
    "ordersByUsersA = orders[orders['group']=='A'].groupby('visitorId', as_index=False).agg({'transactionId' : pd.Series.nunique})\n",
    "ordersByUsersA.columns = ['userid', 'orders']\n",
    "\n",
    "\n",
    "ordersByUsersB = orders[orders['group']=='B'].groupby('visitorId', as_index=False)\\\n",
    ".agg({'transactionId' :pd.Series.nunique})\n",
    "ordersByUsersB.columns = ['userid', 'orders']\n",
    "\n",
    "pd.Series(0, index=np.arange(data['visitorsPerDateA'].sum() - len(ordersByUsersA['orders'])),\\\n",
    "name='orders')\n",
    "[ordersByUsersA['orders'],pd.Series(0, index=np.arange(data['visitorsPerDateA'].sum() -\\\n",
    "len(ordersByUsersA['orders'])), name='orders')]\n",
    "\n",
    "#Объявим переменные sampleA и sampleB, в которых пользователям из разных групп будет соответствовать \\\n",
    "#количество заказов. Тем, кто ничего не заказал, будут соответствовать нули. \n",
    "#Подготовим выборки к проверке критерием Манна-Уитни.\n",
    "\n",
    "sampleA = pd.concat([ordersByUsersA['orders'],pd.Series(0, index=np.arange(data['visitorsPerDateA']\\\n",
    ".sum() - len(ordersByUsersA['orders'])), name='orders')],axis=0)\n",
    "\n",
    "sampleB = pd.concat([ordersByUsersB['orders'],pd.Series(0, index=np.arange(data['visitorsPerDateB']\\\n",
    ".sum() - len(ordersByUsersB['orders'])), name='orders')],axis=0)\n",
    "                    \n",
    "ordersByUsersA = orders[orders['group']=='A'].groupby('visitorId',as_index=False)\\\n",
    ".agg({'transactionId' : pd.Series.nunique})\n",
    "ordersByUsersA.columns = ['userId', 'orders']\n",
    "                    \n",
    "ordersByUsersB = orders[orders['group']=='B'].groupby('visitorId',as_index=False)\\\n",
    ".agg({'transactionId' : pd.Series.nunique})\n",
    "ordersByUsersB.columns = ['userId', 'orders']  \n",
    "                    \n",
    "#sampleA = pd.concat([ordersByUsersA['orders'],pd.Series(0, index=np.arange(data['visitorsPerDateA']\\\n",
    "#.sum() - len(ordersByUsersA['orders'])), name='orders')],axis=0) \n",
    "                    \n",
    "#sampleB = pd.concat([ordersByUsersB['orders'],pd.Series(0, index=np.arange(data['visitorsPerDateB']\\\n",
    "#.sum() - len(ordersByUsersB['orders'])), name='orders')],axis=0)\n",
    "                    \n",
    "print(\"{0:.5f}\".format(stats.mannwhitneyu(sampleA, sampleB)[1]))\n",
    "\n",
    "#print(\"{0:.3f}\".format(sampleB.mean()/sampleA.mean()-1))                    \n",
    "print(\"{0:.3f}\".format((data['ordersPerDateB'].sum()/data['visitorsPerDateB'].sum())/\\\n",
    "(data['ordersPerDateA'].sum()/data['visitorsPerDateA'].sum())-1))                    \n"
   ]
  },
  {
   "cell_type": "markdown",
   "metadata": {},
   "source": [
    "p-value меньше 0.05, потому нулевую гипотезу отвергаем. Анализ «сырых данных» сообщает, что в конверсии между группами есть статистически значимые различия. Относительный прирост конверсии группы B к конверсии группы A равен 13. 8%\n",
    "\n",
    "<font color='blue'> Правильно. </font>"
   ]
  },
  {
   "cell_type": "markdown",
   "metadata": {},
   "source": [
    "### Посчитаем статистическую значимость различий в среднем чеке заказа между группами по «сырым» данным."
   ]
  },
  {
   "cell_type": "code",
   "execution_count": 96,
   "metadata": {},
   "outputs": [
    {
     "name": "stdout",
     "output_type": "stream",
     "text": [
      "0.365\n",
      "0.259\n"
     ]
    }
   ],
   "source": [
    "print(\"{0:.3f}\".format(stats.mannwhitneyu(orders[orders['group']=='A']['revenue'], orders[orders['group']=='B']['revenue'])[1]))\n",
    "print(\"{0:.3f}\".format(orders[orders['group']=='B']['revenue'].mean()/orders[orders['group']=='A']['revenue'].mean()-1))"
   ]
  },
  {
   "cell_type": "markdown",
   "metadata": {},
   "source": [
    "Статистически значимых отличий в среднем чеке между группами нет. Относительное различие чека между сегментама аж 25.9 %\n",
    "\n",
    "<font color='blue'> Верно. </font>"
   ]
  },
  {
   "cell_type": "markdown",
   "metadata": {},
   "source": [
    "### Посчитаем статистическую значимость различий в конверсии между группами по «очищенным» данным.\n",
    "Примем за аномальных пользователей тех, кто совершил 3 заказа и более, или совершил заказ на сумму свыше 30 000 рублей."
   ]
  },
  {
   "cell_type": "code",
   "execution_count": 97,
   "metadata": {},
   "outputs": [
    {
     "name": "stdout",
     "output_type": "stream",
     "text": [
      "858     192721366\n",
      "18      199603092\n",
      "23      237748145\n",
      "37      249864742\n",
      "1099    316924019\n",
      "dtype: int64\n"
     ]
    },
    {
     "data": {
      "text/html": [
       "<div>\n",
       "<style scoped>\n",
       "    .dataframe tbody tr th:only-of-type {\n",
       "        vertical-align: middle;\n",
       "    }\n",
       "\n",
       "    .dataframe tbody tr th {\n",
       "        vertical-align: top;\n",
       "    }\n",
       "\n",
       "    .dataframe thead th {\n",
       "        text-align: right;\n",
       "    }\n",
       "</style>\n",
       "<table border=\"1\" class=\"dataframe\">\n",
       "  <thead>\n",
       "    <tr style=\"text-align: right;\">\n",
       "      <th></th>\n",
       "      <th>userId</th>\n",
       "      <th>orders</th>\n",
       "    </tr>\n",
       "  </thead>\n",
       "  <tbody>\n",
       "    <tr>\n",
       "      <td>0</td>\n",
       "      <td>5114589</td>\n",
       "      <td>1</td>\n",
       "    </tr>\n",
       "    <tr>\n",
       "      <td>1</td>\n",
       "      <td>6958315</td>\n",
       "      <td>1</td>\n",
       "    </tr>\n",
       "    <tr>\n",
       "      <td>2</td>\n",
       "      <td>8300375</td>\n",
       "      <td>1</td>\n",
       "    </tr>\n",
       "    <tr>\n",
       "      <td>3</td>\n",
       "      <td>39475350</td>\n",
       "      <td>1</td>\n",
       "    </tr>\n",
       "    <tr>\n",
       "      <td>4</td>\n",
       "      <td>47206413</td>\n",
       "      <td>1</td>\n",
       "    </tr>\n",
       "  </tbody>\n",
       "</table>\n",
       "</div>"
      ],
      "text/plain": [
       "     userId  orders\n",
       "0   5114589       1\n",
       "1   6958315       1\n",
       "2   8300375       1\n",
       "3  39475350       1\n",
       "4  47206413       1"
      ]
     },
     "execution_count": 97,
     "metadata": {},
     "output_type": "execute_result"
    }
   ],
   "source": [
    "# создаем переменные usersWithManyOrders и usersWithExpensiveOrders пользователей с аномалными\n",
    "#количеством и суммой покупок\n",
    "usersWithManyOrders = pd.concat([ordersByUsersA[ordersByUsersA['orders'] > 2]['userId'],\\\n",
    "ordersByUsersB[ordersByUsersB['orders'] > 2]['userId']], axis = 0)\n",
    "usersWithExpensiveOrders = orders[orders['revenue'] > 30000]['transactionId']\n",
    "\n",
    "abnormalUsers = pd.concat([usersWithManyOrders, usersWithExpensiveOrders], axis = 0).drop_duplicates().sort_values()\n",
    "print(abnormalUsers.head(5))\n",
    "ordersByUsersB.head()"
   ]
  },
  {
   "cell_type": "code",
   "execution_count": 98,
   "metadata": {},
   "outputs": [
    {
     "name": "stdout",
     "output_type": "stream",
     "text": [
      "0.00577\n",
      "0.170\n"
     ]
    }
   ],
   "source": [
    "#создаем переменные sampleAFiltered и sampleAFiltered с \"чистыми\" данными и проводим тест манна уитни\n",
    "sampleAFiltered = pd.concat([ordersByUsersA[np.logical_not(ordersByUsersA['userId'].\\\n",
    "isin(abnormalUsers))]['orders'],pd.Series(0, index=np.arange(data['visitorsPerDateA']\\\n",
    ".sum() - len(ordersByUsersA['orders'])),name='orders')],axis=0)\n",
    "\n",
    "\n",
    "\n",
    "sampleBFiltered = \\\n",
    "pd.concat([ordersByUsersB[np.logical_not(ordersByUsersB['userId']\\\n",
    ".isin(abnormalUsers))]['orders'],pd.Series(0, index=\\\n",
    "np.arange(data['visitorsPerDateB'].sum() - len(ordersByUsersB['orders'])),name='orders')],axis=0)\n",
    "\n",
    "print(\"{0:.5f}\".format(stats.mannwhitneyu(sampleAFiltered, sampleBFiltered)[1]))\n",
    "print(\"{0:.3f}\".format(sampleBFiltered.mean()/sampleAFiltered.mean()-1))"
   ]
  },
  {
   "cell_type": "markdown",
   "metadata": {},
   "source": [
    " Статистическая значимость после очистки данных немного не достигнута, относительный прирост конверсии после удаления аномалий вырос с 13.8% до 17%.\n",
    " \n",
    " <font color='blue'> Здесь какая-то ошибка, разница не должна быть 0. </font>\n",
    " \n",
    " <font color='red'> Вот теперь хорошо. </font>"
   ]
  },
  {
   "cell_type": "markdown",
   "metadata": {},
   "source": [
    "### Посчитаем статистическую значимость различий в среднем чеке заказа между группами по «очищенным» данным:"
   ]
  },
  {
   "cell_type": "code",
   "execution_count": 99,
   "metadata": {},
   "outputs": [
    {
     "name": "stdout",
     "output_type": "stream",
     "text": [
      "0.434\n",
      "-0.019\n"
     ]
    }
   ],
   "source": [
    "print(\"{0:.3f}\".format(stats.mannwhitneyu(\n",
    "    orders[np.logical_and(\n",
    "        orders['group']=='A',\n",
    "        np.logical_not(orders['transactionId'].isin(abnormalUsers)))]['revenue'],\n",
    "    orders[np.logical_and(\n",
    "        orders['group']=='B',\n",
    "        np.logical_not(orders['transactionId'].isin(abnormalUsers)))]['revenue'])[1]))\n",
    "\n",
    "print(\"{0:.3f}\".format(\n",
    "    orders[np.logical_and(orders['group']=='B',np.logical_not(orders['transactionId'].isin(abnormalUsers)))]['revenue'].mean()/\n",
    "    orders[np.logical_and(\n",
    "        orders['group']=='A',\n",
    "        np.logical_not(orders['transactionId'].isin(abnormalUsers)))]['revenue'].mean() - 1))"
   ]
  },
  {
   "cell_type": "markdown",
   "metadata": {},
   "source": [
    "P-value значительно больше 0.05. Значит, причин отвергать нулевую гипотезу и считать, что в среднем чеке есть различия нет.\n",
    "Статистческая значимость после очищения данных также не достигнута.Относительное различие чека между сегментами упало с 25.9 % до -1.9%, средний чек группы В без выбросов стал даже чуть меньше среднего чека группы А.\n",
    "\n",
    "<font color='blue'> Это верно. Тут нужно отметить что разхница из положительной стала отрицательной. Надо объяснить причины. </font>"
   ]
  },
  {
   "cell_type": "markdown",
   "metadata": {},
   "source": [
    "# Выводы"
   ]
  },
  {
   "cell_type": "markdown",
   "metadata": {},
   "source": [
    "Статистическая значимость по конверсии исчезла после фильтрации данных.\n",
    "Нет статистически значимого различия по среднему чеку между группами ни по «сырым», ни по данным после фильтрации аномалий.\n",
    "График различия конверсии между группами по сырым данным сообщает, что результаты группы B лучше группы A\n",
    "Исходя их обнаруженных фактов, тест следует остановить и признать его неуспешным. Продолжать смысла нет, потому как вероятность, что при имеющихся данных сегмент B на самом деле лучше сегмента A — практически нулевая."
   ]
  },
  {
   "cell_type": "markdown",
   "metadata": {},
   "source": [
    "<font color='blue'> В проекте почти все рассчитано верно, но комментарии не полные, объяснения нигде нет. Надо поправить один рассчет по отфильтрованным данным. Плюс надо дополнить все комментарии. Не описывай графики, опиши ситуацию, которая сформировала данные графики. </font>"
   ]
  },
  {
   "cell_type": "markdown",
   "metadata": {},
   "source": [
    "<font color='red'> Отличный проект получился, молодец. </font>"
   ]
  },
  {
   "cell_type": "code",
   "execution_count": null,
   "metadata": {},
   "outputs": [],
   "source": []
  }
 ],
 "metadata": {
  "kernelspec": {
   "display_name": "Python 3",
   "language": "python",
   "name": "python3"
  },
  "language_info": {
   "codemirror_mode": {
    "name": "ipython",
    "version": 3
   },
   "file_extension": ".py",
   "mimetype": "text/x-python",
   "name": "python",
   "nbconvert_exporter": "python",
   "pygments_lexer": "ipython3",
   "version": "3.7.4"
  }
 },
 "nbformat": 4,
 "nbformat_minor": 2
}
