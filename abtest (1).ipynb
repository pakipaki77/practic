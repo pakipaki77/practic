{
 "cells": [
  {
   "cell_type": "markdown",
   "metadata": {},
   "source": [
    "##  Проект по А/В тестированию"
   ]
  },
  {
   "cell_type": "markdown",
   "metadata": {},
   "source": [
    "### Цель:"
   ]
  },
  {
   "cell_type": "markdown",
   "metadata": {},
   "source": [
    "####  Команда внедрила новое решение на сайте — чат с менеджером.\n",
    " \n",
    " Менеджеры продукта говорят о том, что это вызовет негативный опыт у пользователей, а менеджеры по продажам считают, что так получится больше продавать.\n",
    " \n",
    "  Пришли результаты A/B теста — одной выборке показывали назойливый чат, а другой нет. \n",
    "  \n",
    "  Цель - оцените результаты теста и описать выводы."
   ]
  },
  {
   "cell_type": "code",
   "execution_count": 109,
   "metadata": {},
   "outputs": [],
   "source": [
    "#импортируем библиотеки\n",
    "import pandas as pd\n",
    "import numpy as np\n",
    "import matplotlib.pyplot as plt\n",
    "from scipy import stats as st\n",
    "import math as mth"
   ]
  },
  {
   "cell_type": "markdown",
   "metadata": {},
   "source": [
    "### Изучение и проверка данных:"
   ]
  },
  {
   "cell_type": "code",
   "execution_count": 110,
   "metadata": {},
   "outputs": [],
   "source": [
    "data= pd.read_csv('ab_log.csv')"
   ]
  },
  {
   "cell_type": "code",
   "execution_count": 111,
   "metadata": {},
   "outputs": [
    {
     "data": {
      "text/html": [
       "<div>\n",
       "<style scoped>\n",
       "    .dataframe tbody tr th:only-of-type {\n",
       "        vertical-align: middle;\n",
       "    }\n",
       "\n",
       "    .dataframe tbody tr th {\n",
       "        vertical-align: top;\n",
       "    }\n",
       "\n",
       "    .dataframe thead th {\n",
       "        text-align: right;\n",
       "    }\n",
       "</style>\n",
       "<table border=\"1\" class=\"dataframe\">\n",
       "  <thead>\n",
       "    <tr style=\"text-align: right;\">\n",
       "      <th></th>\n",
       "      <th>event</th>\n",
       "      <th>user_id</th>\n",
       "      <th>EventTime</th>\n",
       "      <th>Group</th>\n",
       "    </tr>\n",
       "  </thead>\n",
       "  <tbody>\n",
       "    <tr>\n",
       "      <td>0</td>\n",
       "      <td>StartReadingOffer</td>\n",
       "      <td>7241586465170049200</td>\n",
       "      <td>1564978321</td>\n",
       "      <td>A2</td>\n",
       "    </tr>\n",
       "    <tr>\n",
       "      <td>1</td>\n",
       "      <td>OpenProductCard</td>\n",
       "      <td>4998498972125515821</td>\n",
       "      <td>1564678223</td>\n",
       "      <td>A2</td>\n",
       "    </tr>\n",
       "    <tr>\n",
       "      <td>2</td>\n",
       "      <td>StartReadingOffer</td>\n",
       "      <td>5794343176311717876</td>\n",
       "      <td>1564681595</td>\n",
       "      <td>B</td>\n",
       "    </tr>\n",
       "    <tr>\n",
       "      <td>3</td>\n",
       "      <td>StartReadingOffer</td>\n",
       "      <td>3371640160394640961</td>\n",
       "      <td>1564635919</td>\n",
       "      <td>A1</td>\n",
       "    </tr>\n",
       "    <tr>\n",
       "      <td>4</td>\n",
       "      <td>OpenProductCard</td>\n",
       "      <td>4623191541226589455</td>\n",
       "      <td>1564695060</td>\n",
       "      <td>A1</td>\n",
       "    </tr>\n",
       "  </tbody>\n",
       "</table>\n",
       "</div>"
      ],
      "text/plain": [
       "               event              user_id   EventTime Group\n",
       "0  StartReadingOffer  7241586465170049200  1564978321    A2\n",
       "1    OpenProductCard  4998498972125515821  1564678223    A2\n",
       "2  StartReadingOffer  5794343176311717876  1564681595     B\n",
       "3  StartReadingOffer  3371640160394640961  1564635919    A1\n",
       "4    OpenProductCard  4623191541226589455  1564695060    A1"
      ]
     },
     "execution_count": 111,
     "metadata": {},
     "output_type": "execute_result"
    }
   ],
   "source": [
    "data.head()"
   ]
  },
  {
   "cell_type": "markdown",
   "metadata": {},
   "source": [
    "Описание данных ab_log.csv\n",
    "\n",
    "event - событие\n",
    "\n",
    "user_id - id пользователя\n",
    "\n",
    "EventTime - время события\n",
    "\n",
    "Group - группа события\n",
    "\n",
    "Group:\n",
    "\n",
    "A1 - контрольная группа\n",
    "\n",
    "A2 - контрольная группа\n",
    "\n",
    "B - экспериментальная группа"
   ]
  },
  {
   "cell_type": "code",
   "execution_count": 112,
   "metadata": {},
   "outputs": [
    {
     "name": "stdout",
     "output_type": "stream",
     "text": [
      "<class 'pandas.core.frame.DataFrame'>\n",
      "RangeIndex: 154788 entries, 0 to 154787\n",
      "Data columns (total 4 columns):\n",
      "event        154788 non-null object\n",
      "user_id      154788 non-null int64\n",
      "EventTime    154788 non-null int64\n",
      "Group        154788 non-null object\n",
      "dtypes: int64(2), object(2)\n",
      "memory usage: 4.7+ MB\n"
     ]
    }
   ],
   "source": [
    "data.info()"
   ]
  },
  {
   "cell_type": "code",
   "execution_count": 113,
   "metadata": {},
   "outputs": [
    {
     "data": {
      "text/plain": [
       "0"
      ]
     },
     "execution_count": 113,
     "metadata": {},
     "output_type": "execute_result"
    }
   ],
   "source": [
    "#проверяем таблицу на дубликаты и удаляем их\n",
    "data.duplicated().sum()\n",
    "data = data.drop_duplicates()\n",
    "data.duplicated().sum()"
   ]
  },
  {
   "cell_type": "code",
   "execution_count": 114,
   "metadata": {},
   "outputs": [
    {
     "data": {
      "text/plain": [
       "event        0\n",
       "user_id      0\n",
       "EventTime    0\n",
       "Group        0\n",
       "dtype: int64"
      ]
     },
     "execution_count": 114,
     "metadata": {},
     "output_type": "execute_result"
    }
   ],
   "source": [
    "# проверяем на пропуски\n",
    "data.isna().sum()\n",
    "#data.info()"
   ]
  },
  {
   "cell_type": "code",
   "execution_count": 115,
   "metadata": {},
   "outputs": [
    {
     "data": {
      "text/html": [
       "<div>\n",
       "<style scoped>\n",
       "    .dataframe tbody tr th:only-of-type {\n",
       "        vertical-align: middle;\n",
       "    }\n",
       "\n",
       "    .dataframe tbody tr th {\n",
       "        vertical-align: top;\n",
       "    }\n",
       "\n",
       "    .dataframe thead th {\n",
       "        text-align: right;\n",
       "    }\n",
       "</style>\n",
       "<table border=\"1\" class=\"dataframe\">\n",
       "  <thead>\n",
       "    <tr style=\"text-align: right;\">\n",
       "      <th></th>\n",
       "      <th>event_name</th>\n",
       "      <th>id</th>\n",
       "      <th>event_time</th>\n",
       "      <th>exp_id</th>\n",
       "    </tr>\n",
       "  </thead>\n",
       "  <tbody>\n",
       "    <tr>\n",
       "      <td>0</td>\n",
       "      <td>StartReadingOffer</td>\n",
       "      <td>7241586465170049200</td>\n",
       "      <td>1564978321</td>\n",
       "      <td>A2</td>\n",
       "    </tr>\n",
       "    <tr>\n",
       "      <td>1</td>\n",
       "      <td>OpenProductCard</td>\n",
       "      <td>4998498972125515821</td>\n",
       "      <td>1564678223</td>\n",
       "      <td>A2</td>\n",
       "    </tr>\n",
       "    <tr>\n",
       "      <td>2</td>\n",
       "      <td>StartReadingOffer</td>\n",
       "      <td>5794343176311717876</td>\n",
       "      <td>1564681595</td>\n",
       "      <td>B</td>\n",
       "    </tr>\n",
       "    <tr>\n",
       "      <td>3</td>\n",
       "      <td>StartReadingOffer</td>\n",
       "      <td>3371640160394640961</td>\n",
       "      <td>1564635919</td>\n",
       "      <td>A1</td>\n",
       "    </tr>\n",
       "    <tr>\n",
       "      <td>4</td>\n",
       "      <td>OpenProductCard</td>\n",
       "      <td>4623191541226589455</td>\n",
       "      <td>1564695060</td>\n",
       "      <td>A1</td>\n",
       "    </tr>\n",
       "  </tbody>\n",
       "</table>\n",
       "</div>"
      ],
      "text/plain": [
       "          event_name                   id  event_time exp_id\n",
       "0  StartReadingOffer  7241586465170049200  1564978321     A2\n",
       "1    OpenProductCard  4998498972125515821  1564678223     A2\n",
       "2  StartReadingOffer  5794343176311717876  1564681595      B\n",
       "3  StartReadingOffer  3371640160394640961  1564635919     A1\n",
       "4    OpenProductCard  4623191541226589455  1564695060     A1"
      ]
     },
     "execution_count": 115,
     "metadata": {},
     "output_type": "execute_result"
    }
   ],
   "source": [
    "#заменяем названия стлбцов\n",
    "data.columns=['event_name', 'id', 'event_time', 'exp_id']\n",
    "data.head()"
   ]
  },
  {
   "cell_type": "code",
   "execution_count": 116,
   "metadata": {},
   "outputs": [],
   "source": [
    "#создаем столбец даты и времени\n",
    "data['event_time_data'] = pd.to_datetime(data['event_time'], unit='s')"
   ]
  },
  {
   "cell_type": "code",
   "execution_count": 117,
   "metadata": {},
   "outputs": [
    {
     "data": {
      "text/html": [
       "<div>\n",
       "<style scoped>\n",
       "    .dataframe tbody tr th:only-of-type {\n",
       "        vertical-align: middle;\n",
       "    }\n",
       "\n",
       "    .dataframe tbody tr th {\n",
       "        vertical-align: top;\n",
       "    }\n",
       "\n",
       "    .dataframe thead th {\n",
       "        text-align: right;\n",
       "    }\n",
       "</style>\n",
       "<table border=\"1\" class=\"dataframe\">\n",
       "  <thead>\n",
       "    <tr style=\"text-align: right;\">\n",
       "      <th></th>\n",
       "      <th>event_name</th>\n",
       "      <th>id</th>\n",
       "      <th>event_time</th>\n",
       "      <th>exp_id</th>\n",
       "      <th>event_time_data</th>\n",
       "      <th>event_data</th>\n",
       "    </tr>\n",
       "  </thead>\n",
       "  <tbody>\n",
       "    <tr>\n",
       "      <td>0</td>\n",
       "      <td>StartReadingOffer</td>\n",
       "      <td>7241586465170049200</td>\n",
       "      <td>1564978321</td>\n",
       "      <td>A2</td>\n",
       "      <td>2019-08-05 04:12:01</td>\n",
       "      <td>2019-08-05</td>\n",
       "    </tr>\n",
       "    <tr>\n",
       "      <td>1</td>\n",
       "      <td>OpenProductCard</td>\n",
       "      <td>4998498972125515821</td>\n",
       "      <td>1564678223</td>\n",
       "      <td>A2</td>\n",
       "      <td>2019-08-01 16:50:23</td>\n",
       "      <td>2019-08-01</td>\n",
       "    </tr>\n",
       "    <tr>\n",
       "      <td>2</td>\n",
       "      <td>StartReadingOffer</td>\n",
       "      <td>5794343176311717876</td>\n",
       "      <td>1564681595</td>\n",
       "      <td>B</td>\n",
       "      <td>2019-08-01 17:46:35</td>\n",
       "      <td>2019-08-01</td>\n",
       "    </tr>\n",
       "    <tr>\n",
       "      <td>3</td>\n",
       "      <td>StartReadingOffer</td>\n",
       "      <td>3371640160394640961</td>\n",
       "      <td>1564635919</td>\n",
       "      <td>A1</td>\n",
       "      <td>2019-08-01 05:05:19</td>\n",
       "      <td>2019-08-01</td>\n",
       "    </tr>\n",
       "    <tr>\n",
       "      <td>4</td>\n",
       "      <td>OpenProductCard</td>\n",
       "      <td>4623191541226589455</td>\n",
       "      <td>1564695060</td>\n",
       "      <td>A1</td>\n",
       "      <td>2019-08-01 21:31:00</td>\n",
       "      <td>2019-08-01</td>\n",
       "    </tr>\n",
       "    <tr>\n",
       "      <td>5</td>\n",
       "      <td>StartCheckProduct</td>\n",
       "      <td>7610224088606451298</td>\n",
       "      <td>1564741132</td>\n",
       "      <td>A2</td>\n",
       "      <td>2019-08-02 10:18:52</td>\n",
       "      <td>2019-08-02</td>\n",
       "    </tr>\n",
       "    <tr>\n",
       "      <td>6</td>\n",
       "      <td>StartCheckProduct</td>\n",
       "      <td>3313099498687285583</td>\n",
       "      <td>1564750426</td>\n",
       "      <td>A1</td>\n",
       "      <td>2019-08-02 12:53:46</td>\n",
       "      <td>2019-08-02</td>\n",
       "    </tr>\n",
       "    <tr>\n",
       "      <td>7</td>\n",
       "      <td>StartReadingOffer</td>\n",
       "      <td>1501908752960545754</td>\n",
       "      <td>1564768055</td>\n",
       "      <td>A2</td>\n",
       "      <td>2019-08-02 17:47:35</td>\n",
       "      <td>2019-08-02</td>\n",
       "    </tr>\n",
       "    <tr>\n",
       "      <td>8</td>\n",
       "      <td>StartReadingOffer</td>\n",
       "      <td>4492930508453783534</td>\n",
       "      <td>1564846927</td>\n",
       "      <td>A1</td>\n",
       "      <td>2019-08-03 15:42:07</td>\n",
       "      <td>2019-08-03</td>\n",
       "    </tr>\n",
       "    <tr>\n",
       "      <td>9</td>\n",
       "      <td>StartReadingOffer</td>\n",
       "      <td>4733721427754988394</td>\n",
       "      <td>1564939110</td>\n",
       "      <td>A2</td>\n",
       "      <td>2019-08-04 17:18:30</td>\n",
       "      <td>2019-08-04</td>\n",
       "    </tr>\n",
       "  </tbody>\n",
       "</table>\n",
       "</div>"
      ],
      "text/plain": [
       "          event_name                   id  event_time exp_id  \\\n",
       "0  StartReadingOffer  7241586465170049200  1564978321     A2   \n",
       "1    OpenProductCard  4998498972125515821  1564678223     A2   \n",
       "2  StartReadingOffer  5794343176311717876  1564681595      B   \n",
       "3  StartReadingOffer  3371640160394640961  1564635919     A1   \n",
       "4    OpenProductCard  4623191541226589455  1564695060     A1   \n",
       "5  StartCheckProduct  7610224088606451298  1564741132     A2   \n",
       "6  StartCheckProduct  3313099498687285583  1564750426     A1   \n",
       "7  StartReadingOffer  1501908752960545754  1564768055     A2   \n",
       "8  StartReadingOffer  4492930508453783534  1564846927     A1   \n",
       "9  StartReadingOffer  4733721427754988394  1564939110     A2   \n",
       "\n",
       "      event_time_data  event_data  \n",
       "0 2019-08-05 04:12:01  2019-08-05  \n",
       "1 2019-08-01 16:50:23  2019-08-01  \n",
       "2 2019-08-01 17:46:35  2019-08-01  \n",
       "3 2019-08-01 05:05:19  2019-08-01  \n",
       "4 2019-08-01 21:31:00  2019-08-01  \n",
       "5 2019-08-02 10:18:52  2019-08-02  \n",
       "6 2019-08-02 12:53:46  2019-08-02  \n",
       "7 2019-08-02 17:47:35  2019-08-02  \n",
       "8 2019-08-03 15:42:07  2019-08-03  \n",
       "9 2019-08-04 17:18:30  2019-08-04  "
      ]
     },
     "execution_count": 117,
     "metadata": {},
     "output_type": "execute_result"
    }
   ],
   "source": [
    "#Создаем столбец даты\n",
    "data['event_data']= data['event_time_data'].dt.strftime('%Y-%m-%d')\n",
    "data.head(10)"
   ]
  },
  {
   "cell_type": "markdown",
   "metadata": {},
   "source": [
    "### Изучение и проверка данных"
   ]
  },
  {
   "cell_type": "markdown",
   "metadata": {},
   "source": [
    "Сколько всего событий в логе?Сколько всего пользователей в логе?Сколько в среднем событий приходится на пользователя?"
   ]
  },
  {
   "cell_type": "code",
   "execution_count": 118,
   "metadata": {},
   "outputs": [
    {
     "name": "stdout",
     "output_type": "stream",
     "text": [
      "Всего событий в логе 154492\n",
      "Количество уникальных ползователей: 6805\n",
      "В среднем на пользователя приходится событий: event_name    23.0\n",
      "dtype: float64\n"
     ]
    }
   ],
   "source": [
    "event_count = data['event_name'].count()\n",
    "print('Всего событий в логе',event_count)\n",
    "user_count = data['id'].nunique()\n",
    "print('Количество уникальных ползователей:', user_count )\n",
    "user_count = data.groupby('id').agg({'event_name': 'count'})\n",
    "print (\"В среднем на пользователя приходится событий:\", user_count.mean().round())"
   ]
  },
  {
   "cell_type": "markdown",
   "metadata": {},
   "source": [
    "#### Найдем максимальную и минимальную дату. Построим гистограмму по дате и времени."
   ]
  },
  {
   "cell_type": "code",
   "execution_count": 119,
   "metadata": {},
   "outputs": [
    {
     "name": "stdout",
     "output_type": "stream",
     "text": [
      "Минимальная дата: 2019-07-25\n",
      "Максимальная дата: 2019-08-05\n"
     ]
    }
   ],
   "source": [
    "data_min = data['event_data'].min()\n",
    "data_max = data['event_data'].max()\n",
    "\n",
    "print(\"Минимальная дата:\", data_min)\n",
    "print(\"Максимальная дата:\", data_max)"
   ]
  },
  {
   "cell_type": "code",
   "execution_count": 120,
   "metadata": {},
   "outputs": [
    {
     "data": {
      "text/html": [
       "<div>\n",
       "<style scoped>\n",
       "    .dataframe tbody tr th:only-of-type {\n",
       "        vertical-align: middle;\n",
       "    }\n",
       "\n",
       "    .dataframe tbody tr th {\n",
       "        vertical-align: top;\n",
       "    }\n",
       "\n",
       "    .dataframe thead th {\n",
       "        text-align: right;\n",
       "    }\n",
       "</style>\n",
       "<table border=\"1\" class=\"dataframe\">\n",
       "  <thead>\n",
       "    <tr style=\"text-align: right;\">\n",
       "      <th></th>\n",
       "      <th>event_data</th>\n",
       "      <th>event_name</th>\n",
       "    </tr>\n",
       "  </thead>\n",
       "  <tbody>\n",
       "    <tr>\n",
       "      <td>0</td>\n",
       "      <td>2019-07-25</td>\n",
       "      <td>9</td>\n",
       "    </tr>\n",
       "    <tr>\n",
       "      <td>1</td>\n",
       "      <td>2019-07-26</td>\n",
       "      <td>30</td>\n",
       "    </tr>\n",
       "    <tr>\n",
       "      <td>2</td>\n",
       "      <td>2019-07-27</td>\n",
       "      <td>56</td>\n",
       "    </tr>\n",
       "    <tr>\n",
       "      <td>3</td>\n",
       "      <td>2019-07-28</td>\n",
       "      <td>105</td>\n",
       "    </tr>\n",
       "    <tr>\n",
       "      <td>4</td>\n",
       "      <td>2019-07-29</td>\n",
       "      <td>184</td>\n",
       "    </tr>\n",
       "    <tr>\n",
       "      <td>5</td>\n",
       "      <td>2019-07-30</td>\n",
       "      <td>411</td>\n",
       "    </tr>\n",
       "    <tr>\n",
       "      <td>6</td>\n",
       "      <td>2019-07-31</td>\n",
       "      <td>2019</td>\n",
       "    </tr>\n",
       "    <tr>\n",
       "      <td>7</td>\n",
       "      <td>2019-08-01</td>\n",
       "      <td>36090</td>\n",
       "    </tr>\n",
       "    <tr>\n",
       "      <td>8</td>\n",
       "      <td>2019-08-02</td>\n",
       "      <td>35564</td>\n",
       "    </tr>\n",
       "    <tr>\n",
       "      <td>9</td>\n",
       "      <td>2019-08-03</td>\n",
       "      <td>33286</td>\n",
       "    </tr>\n",
       "    <tr>\n",
       "      <td>10</td>\n",
       "      <td>2019-08-04</td>\n",
       "      <td>32961</td>\n",
       "    </tr>\n",
       "    <tr>\n",
       "      <td>11</td>\n",
       "      <td>2019-08-05</td>\n",
       "      <td>13777</td>\n",
       "    </tr>\n",
       "  </tbody>\n",
       "</table>\n",
       "</div>"
      ],
      "text/plain": [
       "    event_data  event_name\n",
       "0   2019-07-25           9\n",
       "1   2019-07-26          30\n",
       "2   2019-07-27          56\n",
       "3   2019-07-28         105\n",
       "4   2019-07-29         184\n",
       "5   2019-07-30         411\n",
       "6   2019-07-31        2019\n",
       "7   2019-08-01       36090\n",
       "8   2019-08-02       35564\n",
       "9   2019-08-03       33286\n",
       "10  2019-08-04       32961\n",
       "11  2019-08-05       13777"
      ]
     },
     "execution_count": 120,
     "metadata": {},
     "output_type": "execute_result"
    }
   ],
   "source": [
    "hist = data.groupby('event_data').agg({'event_name': 'count'}).reset_index()\n",
    "hist"
   ]
  },
  {
   "cell_type": "code",
   "execution_count": 121,
   "metadata": {},
   "outputs": [
    {
     "data": {
      "image/png": "[encoded data removed]",
      "text/plain": [
       "<Figure size 1440x720 with 1 Axes>"
      ]
     },
     "metadata": {},
     "output_type": "display_data"
    }
   ],
   "source": [
    "x = hist['event_data']\n",
    "y = hist['event_name']\n",
    "\n",
    "fig, ax = plt.subplots()\n",
    "\n",
    "ax.bar(x, y)\n",
    "plt.title(\"Количество событий на дату\")\n",
    "plt.xlabel(\"Дата\")\n",
    "plt.ylabel(\"Количество событий\")\n",
    "\n",
    "ax.set_facecolor('seashell')\n",
    "fig.set_facecolor('floralwhite')\n",
    "fig.set_figwidth(20)    #  ширина Figure\n",
    "fig.set_figheight(10)    #  высота Figure\n",
    "\n",
    "plt.show()"
   ]
  },
  {
   "cell_type": "markdown",
   "metadata": {},
   "source": [
    "Количество событий резко выросло стабилизировалось с 01.08. Обрезаем данные по этой дате"
   ]
  },
  {
   "cell_type": "code",
   "execution_count": 122,
   "metadata": {},
   "outputs": [],
   "source": [
    "data_new= data.query('event_data >= \"2019-08-01\"')"
   ]
  },
  {
   "cell_type": "markdown",
   "metadata": {},
   "source": [
    "Сколько событий и пользователей мы потеряли, отбросив старые данные?\n"
   ]
  },
  {
   "cell_type": "code",
   "execution_count": 123,
   "metadata": {},
   "outputs": [
    {
     "name": "stdout",
     "output_type": "stream",
     "text": [
      "1.0139603232916972\n"
     ]
    },
    {
     "data": {
      "text/plain": [
       "1.8214535380472776"
      ]
     },
     "execution_count": 123,
     "metadata": {},
     "output_type": "execute_result"
    }
   ],
   "source": [
    "users_lost = (data['id'].nunique() - data_new['id'].nunique()) / data['id'].nunique() * 100\n",
    "print(users_lost)\n",
    "event_lost = (data['event_name'].count() - data_new['event_name'].count()) / data['event_name'].count() * 100\n",
    "event_lost"
   ]
  },
  {
   "cell_type": "markdown",
   "metadata": {},
   "source": [
    "Обрезав данные мы потеряли 1 % пользователей и 1.8% событий."
   ]
  },
  {
   "cell_type": "markdown",
   "metadata": {},
   "source": [
    " ситаем пользователей из всех трёх экспериментальных групп"
   ]
  },
  {
   "cell_type": "code",
   "execution_count": 124,
   "metadata": {
    "scrolled": true
   },
   "outputs": [
    {
     "data": {
      "text/html": [
       "<div>\n",
       "<style scoped>\n",
       "    .dataframe tbody tr th:only-of-type {\n",
       "        vertical-align: middle;\n",
       "    }\n",
       "\n",
       "    .dataframe tbody tr th {\n",
       "        vertical-align: top;\n",
       "    }\n",
       "\n",
       "    .dataframe thead th {\n",
       "        text-align: right;\n",
       "    }\n",
       "</style>\n",
       "<table border=\"1\" class=\"dataframe\">\n",
       "  <thead>\n",
       "    <tr style=\"text-align: right;\">\n",
       "      <th></th>\n",
       "      <th>id</th>\n",
       "    </tr>\n",
       "    <tr>\n",
       "      <th>exp_id</th>\n",
       "      <th></th>\n",
       "    </tr>\n",
       "  </thead>\n",
       "  <tbody>\n",
       "    <tr>\n",
       "      <td>A1</td>\n",
       "      <td>2255</td>\n",
       "    </tr>\n",
       "    <tr>\n",
       "      <td>A2</td>\n",
       "      <td>2216</td>\n",
       "    </tr>\n",
       "    <tr>\n",
       "      <td>B</td>\n",
       "      <td>2265</td>\n",
       "    </tr>\n",
       "  </tbody>\n",
       "</table>\n",
       "</div>"
      ],
      "text/plain": [
       "          id\n",
       "exp_id      \n",
       "A1      2255\n",
       "A2      2216\n",
       "B       2265"
      ]
     },
     "execution_count": 124,
     "metadata": {},
     "output_type": "execute_result"
    }
   ],
   "source": [
    "\n",
    "\n",
    "data_new['exp_id'].unique()\n",
    "count_group= data_new.groupby('exp_id').agg({'id': 'nunique'})\n",
    "count_group"
   ]
  },
  {
   "cell_type": "markdown",
   "metadata": {},
   "source": [
    "Представителей всех трех групп в обрезанной таблице примерно равное количество"
   ]
  },
  {
   "cell_type": "markdown",
   "metadata": {},
   "source": [
    "### Воронка событий"
   ]
  },
  {
   "cell_type": "markdown",
   "metadata": {},
   "source": [
    "Посмотрим какие события есть в логах, как часто они встречаются. Отсортируем события по частоте."
   ]
  },
  {
   "cell_type": "code",
   "execution_count": 125,
   "metadata": {},
   "outputs": [
    {
     "data": {
      "text/plain": [
       "array(['StartReadingOffer', 'OpenProductCard', 'StartCheckProduct',\n",
       "       'OpenPaymentScreen'], dtype=object)"
      ]
     },
     "execution_count": 125,
     "metadata": {},
     "output_type": "execute_result"
    }
   ],
   "source": [
    "event_name = data_new['event_name'].unique()\n",
    "event_name"
   ]
  },
  {
   "cell_type": "markdown",
   "metadata": {},
   "source": [
    "StartReadingOffer- открыл страницу с предложениями по скидкам\n",
    "\n",
    "OpenProductCard - открыл страницу с товарами\n",
    "\n",
    "StartCheckProduct - открыл карточку товара\n",
    "\n",
    "OpenPaymentScreen — открыл окно с оплатой"
   ]
  },
  {
   "cell_type": "code",
   "execution_count": 126,
   "metadata": {},
   "outputs": [
    {
     "data": {
      "text/plain": [
       "StartReadingOffer    72281\n",
       "StartCheckProduct    29641\n",
       "OpenProductCard      27334\n",
       "OpenPaymentScreen    22422\n",
       "Name: event_name, dtype: int64"
      ]
     },
     "execution_count": 126,
     "metadata": {},
     "output_type": "execute_result"
    }
   ],
   "source": [
    "#частота событий\n",
    "event_name_frequency = data_new['event_name'].value_counts()\n",
    "event_name_frequency"
   ]
  },
  {
   "cell_type": "markdown",
   "metadata": {},
   "source": [
    "Посчитаем сколько пользователей совершали каждое из этих событий. Отсортируем события по числу пользователей. Посчитаем долю пользователей, которые хоть раз совершали событие."
   ]
  },
  {
   "cell_type": "code",
   "execution_count": 127,
   "metadata": {},
   "outputs": [
    {
     "data": {
      "text/html": [
       "<div>\n",
       "<style scoped>\n",
       "    .dataframe tbody tr th:only-of-type {\n",
       "        vertical-align: middle;\n",
       "    }\n",
       "\n",
       "    .dataframe tbody tr th {\n",
       "        vertical-align: top;\n",
       "    }\n",
       "\n",
       "    .dataframe thead th {\n",
       "        text-align: right;\n",
       "    }\n",
       "</style>\n",
       "<table border=\"1\" class=\"dataframe\">\n",
       "  <thead>\n",
       "    <tr style=\"text-align: right;\">\n",
       "      <th></th>\n",
       "      <th>id</th>\n",
       "    </tr>\n",
       "    <tr>\n",
       "      <th>event_name</th>\n",
       "      <th></th>\n",
       "    </tr>\n",
       "  </thead>\n",
       "  <tbody>\n",
       "    <tr>\n",
       "      <td>StartReadingOffer</td>\n",
       "      <td>6592</td>\n",
       "    </tr>\n",
       "    <tr>\n",
       "      <td>StartCheckProduct</td>\n",
       "      <td>3972</td>\n",
       "    </tr>\n",
       "    <tr>\n",
       "      <td>OpenPaymentScreen</td>\n",
       "      <td>3340</td>\n",
       "    </tr>\n",
       "    <tr>\n",
       "      <td>OpenProductCard</td>\n",
       "      <td>3229</td>\n",
       "    </tr>\n",
       "  </tbody>\n",
       "</table>\n",
       "</div>"
      ],
      "text/plain": [
       "                     id\n",
       "event_name             \n",
       "StartReadingOffer  6592\n",
       "StartCheckProduct  3972\n",
       "OpenPaymentScreen  3340\n",
       "OpenProductCard    3229"
      ]
     },
     "execution_count": 127,
     "metadata": {},
     "output_type": "execute_result"
    }
   ],
   "source": [
    "#сколько пользователей совершали каждое событие\n",
    "user_event_count= data_new.groupby('event_name').agg({'id':'nunique'})\n",
    "user_event_count.reset_index()\n",
    "user_event_count.sort_values(by = 'id',ascending = False)"
   ]
  },
  {
   "cell_type": "code",
   "execution_count": 128,
   "metadata": {},
   "outputs": [
    {
     "data": {
      "text/html": [
       "<div>\n",
       "<style scoped>\n",
       "    .dataframe tbody tr th:only-of-type {\n",
       "        vertical-align: middle;\n",
       "    }\n",
       "\n",
       "    .dataframe tbody tr th {\n",
       "        vertical-align: top;\n",
       "    }\n",
       "\n",
       "    .dataframe thead th {\n",
       "        text-align: right;\n",
       "    }\n",
       "</style>\n",
       "<table border=\"1\" class=\"dataframe\">\n",
       "  <thead>\n",
       "    <tr style=\"text-align: right;\">\n",
       "      <th></th>\n",
       "      <th>event_name</th>\n",
       "      <th>id</th>\n",
       "      <th>part</th>\n",
       "    </tr>\n",
       "  </thead>\n",
       "  <tbody>\n",
       "    <tr>\n",
       "      <td>3</td>\n",
       "      <td>StartReadingOffer</td>\n",
       "      <td>6592</td>\n",
       "      <td>0.98</td>\n",
       "    </tr>\n",
       "    <tr>\n",
       "      <td>2</td>\n",
       "      <td>StartCheckProduct</td>\n",
       "      <td>3972</td>\n",
       "      <td>0.59</td>\n",
       "    </tr>\n",
       "    <tr>\n",
       "      <td>0</td>\n",
       "      <td>OpenPaymentScreen</td>\n",
       "      <td>3340</td>\n",
       "      <td>0.50</td>\n",
       "    </tr>\n",
       "    <tr>\n",
       "      <td>1</td>\n",
       "      <td>OpenProductCard</td>\n",
       "      <td>3229</td>\n",
       "      <td>0.48</td>\n",
       "    </tr>\n",
       "  </tbody>\n",
       "</table>\n",
       "</div>"
      ],
      "text/plain": [
       "          event_name    id  part\n",
       "3  StartReadingOffer  6592  0.98\n",
       "2  StartCheckProduct  3972  0.59\n",
       "0  OpenPaymentScreen  3340  0.50\n",
       "1    OpenProductCard  3229  0.48"
      ]
     },
     "metadata": {},
     "output_type": "display_data"
    }
   ],
   "source": [
    "#находим общее количество уникальных пользователей\n",
    "total_user_count = data_new['id'].nunique()\n",
    "#выводим долю пользователей, которые хоть раз совершали событие\n",
    "user_part = data_new.groupby('event_name').agg({'id': 'nunique'}).reset_index().sort_values(by = 'id',ascending = False)\n",
    "user_part['part'] = (user_part['id']/ total_user_count).round(2)\n",
    "display(user_part)"
   ]
  },
  {
   "cell_type": "markdown",
   "metadata": {},
   "source": [
    "Доля уникальных пользователей, совершивших событие, резко падает(почти 40%) от первого события(главная страница) до второго(каталог). С каталога до корзины значително меньше. Из корзины до оплаты доходит подавляющее большинтво."
   ]
  },
  {
   "cell_type": "markdown",
   "metadata": {},
   "source": [
    "### Изучаем результаты эксперимента"
   ]
  },
  {
   "cell_type": "markdown",
   "metadata": {},
   "source": [
    "Сколько пользователей в каждой экспериментальной группе?"
   ]
  },
  {
   "cell_type": "code",
   "execution_count": 129,
   "metadata": {},
   "outputs": [
    {
     "data": {
      "text/html": [
       "<div>\n",
       "<style scoped>\n",
       "    .dataframe tbody tr th:only-of-type {\n",
       "        vertical-align: middle;\n",
       "    }\n",
       "\n",
       "    .dataframe tbody tr th {\n",
       "        vertical-align: top;\n",
       "    }\n",
       "\n",
       "    .dataframe thead th {\n",
       "        text-align: right;\n",
       "    }\n",
       "</style>\n",
       "<table border=\"1\" class=\"dataframe\">\n",
       "  <thead>\n",
       "    <tr style=\"text-align: right;\">\n",
       "      <th></th>\n",
       "      <th>id</th>\n",
       "    </tr>\n",
       "    <tr>\n",
       "      <th>exp_id</th>\n",
       "      <th></th>\n",
       "    </tr>\n",
       "  </thead>\n",
       "  <tbody>\n",
       "    <tr>\n",
       "      <td>A1</td>\n",
       "      <td>2255</td>\n",
       "    </tr>\n",
       "    <tr>\n",
       "      <td>A2</td>\n",
       "      <td>2216</td>\n",
       "    </tr>\n",
       "    <tr>\n",
       "      <td>B</td>\n",
       "      <td>2265</td>\n",
       "    </tr>\n",
       "  </tbody>\n",
       "</table>\n",
       "</div>"
      ],
      "text/plain": [
       "          id\n",
       "exp_id      \n",
       "A1      2255\n",
       "A2      2216\n",
       "B       2265"
      ]
     },
     "execution_count": 129,
     "metadata": {},
     "output_type": "execute_result"
    }
   ],
   "source": [
    "#количество пользователей в каждой группе\n",
    "count_group= data_new.groupby('exp_id').agg({'id': 'nunique'})\n",
    "count_group"
   ]
  },
  {
   "cell_type": "code",
   "execution_count": null,
   "metadata": {},
   "outputs": [],
   "source": []
  },
  {
   "cell_type": "code",
   "execution_count": 130,
   "metadata": {},
   "outputs": [
    {
     "data": {
      "text/html": [
       "<div>\n",
       "<style scoped>\n",
       "    .dataframe tbody tr th:only-of-type {\n",
       "        vertical-align: middle;\n",
       "    }\n",
       "\n",
       "    .dataframe tbody tr th {\n",
       "        vertical-align: top;\n",
       "    }\n",
       "\n",
       "    .dataframe thead th {\n",
       "        text-align: right;\n",
       "    }\n",
       "</style>\n",
       "<table border=\"1\" class=\"dataframe\">\n",
       "  <thead>\n",
       "    <tr style=\"text-align: right;\">\n",
       "      <th></th>\n",
       "      <th>id</th>\n",
       "      <th>part</th>\n",
       "    </tr>\n",
       "    <tr>\n",
       "      <th>exp_id</th>\n",
       "      <th></th>\n",
       "      <th></th>\n",
       "    </tr>\n",
       "  </thead>\n",
       "  <tbody>\n",
       "    <tr>\n",
       "      <td>A1</td>\n",
       "      <td>2206</td>\n",
       "      <td>0.3</td>\n",
       "    </tr>\n",
       "    <tr>\n",
       "      <td>A2</td>\n",
       "      <td>2166</td>\n",
       "      <td>0.3</td>\n",
       "    </tr>\n",
       "    <tr>\n",
       "      <td>B</td>\n",
       "      <td>2220</td>\n",
       "      <td>0.3</td>\n",
       "    </tr>\n",
       "  </tbody>\n",
       "</table>\n",
       "</div>"
      ],
      "text/plain": [
       "          id  part\n",
       "exp_id            \n",
       "A1      2206   0.3\n",
       "A2      2166   0.3\n",
       "B       2220   0.3"
      ]
     },
     "metadata": {},
     "output_type": "display_data"
    }
   ],
   "source": [
    "#посчитаем сколько пользователей совершили самое популярное событие (StartReadingOffer) в каждой\n",
    "#из групп\n",
    "main_user_group_count = data_new.query('event_name == \"StartReadingOffer\"')\n",
    "main_user_group_count = main_user_group_count.groupby('exp_id').agg({'id': 'nunique'})  \n",
    "main_user_group_count.reset_index()\n",
    "# посчитаем долю пользователей соверивших StartReadingOffer\n",
    "main_user_group_count['part'] = main_user_group_count['id'] / main_user_group_count['id'].sum()\n",
    "display(main_user_group_count.round(1))"
   ]
  },
  {
   "cell_type": "markdown",
   "metadata": {},
   "source": [
    "Доля пользовтелей соверивших StartReadingOffer во всех группах примерно равна."
   ]
  },
  {
   "cell_type": "markdown",
   "metadata": {},
   "source": [
    "Cоздаем таблицу c количеством пользователей по группам и событиям:"
   ]
  },
  {
   "cell_type": "code",
   "execution_count": 131,
   "metadata": {
    "scrolled": true
   },
   "outputs": [
    {
     "data": {
      "text/html": [
       "<div>\n",
       "<style scoped>\n",
       "    .dataframe tbody tr th:only-of-type {\n",
       "        vertical-align: middle;\n",
       "    }\n",
       "\n",
       "    .dataframe tbody tr th {\n",
       "        vertical-align: top;\n",
       "    }\n",
       "\n",
       "    .dataframe thead th {\n",
       "        text-align: right;\n",
       "    }\n",
       "</style>\n",
       "<table border=\"1\" class=\"dataframe\">\n",
       "  <thead>\n",
       "    <tr style=\"text-align: right;\">\n",
       "      <th></th>\n",
       "      <th>OpenPaymentScreen</th>\n",
       "      <th>OpenProductCard</th>\n",
       "      <th>StartCheckProduct</th>\n",
       "      <th>StartReadingOffer</th>\n",
       "      <th>id</th>\n",
       "    </tr>\n",
       "    <tr>\n",
       "      <th>exp_id</th>\n",
       "      <th></th>\n",
       "      <th></th>\n",
       "      <th></th>\n",
       "      <th></th>\n",
       "      <th></th>\n",
       "    </tr>\n",
       "  </thead>\n",
       "  <tbody>\n",
       "    <tr>\n",
       "      <td>A1</td>\n",
       "      <td>1112</td>\n",
       "      <td>1071</td>\n",
       "      <td>1318</td>\n",
       "      <td>2206</td>\n",
       "      <td>2255</td>\n",
       "    </tr>\n",
       "    <tr>\n",
       "      <td>A2</td>\n",
       "      <td>1132</td>\n",
       "      <td>1085</td>\n",
       "      <td>1339</td>\n",
       "      <td>2166</td>\n",
       "      <td>2216</td>\n",
       "    </tr>\n",
       "    <tr>\n",
       "      <td>B</td>\n",
       "      <td>1096</td>\n",
       "      <td>1073</td>\n",
       "      <td>1315</td>\n",
       "      <td>2220</td>\n",
       "      <td>2265</td>\n",
       "    </tr>\n",
       "  </tbody>\n",
       "</table>\n",
       "</div>"
      ],
      "text/plain": [
       "        OpenPaymentScreen  OpenProductCard  StartCheckProduct  \\\n",
       "exp_id                                                          \n",
       "A1                   1112             1071               1318   \n",
       "A2                   1132             1085               1339   \n",
       "B                    1096             1073               1315   \n",
       "\n",
       "        StartReadingOffer    id  \n",
       "exp_id                           \n",
       "A1                   2206  2255  \n",
       "A2                   2166  2216  \n",
       "B                    2220  2265  "
      ]
     },
     "metadata": {},
     "output_type": "display_data"
    }
   ],
   "source": [
    "#создаем таблицу c количеством пользователей по группам и событиям\n",
    "table_test = data_new.pivot_table(index = \"exp_id\", columns = 'event_name', values = 'id', aggfunc = 'nunique')\n",
    "#присоединяем столбец с общим числом пользователей по группам\n",
    "table_test = table_test.join(count_group, on = 'exp_id')\n",
    "display(table_test)"
   ]
  },
  {
   "cell_type": "markdown",
   "metadata": {},
   "source": [
    "Пишем функцию для проверки статистической достоверности отличия групп,используем Z-критерий для провверки равенства долей:"
   ]
  },
  {
   "cell_type": "code",
   "execution_count": 132,
   "metadata": {},
   "outputs": [],
   "source": [
    "def zfunc(a,b,c,d ):\n",
    "    alpha = .05 # критический уровень статистической значимости\n",
    "\n",
    "    purchases = np.array([a, b])\n",
    "    leads = np.array([c, d])\n",
    "    # пропорция успехов в первой группе\n",
    "    p1 = purchases[0]/leads[0]\n",
    "    # пропорция успехов во второй группе:\n",
    "    p2 =  purchases[1]/leads[1]\n",
    "    # пропорция успехов в комбинированном датасете:\n",
    "    p_combined = (purchases[0] + purchases[1])/ (leads[0] +leads[1])\n",
    "    # ваш код\n",
    "    difference = p1 - p2\n",
    "    z_value =difference / mth.sqrt(p_combined * (1 - p_combined) * (1/leads[0] + 1/leads[1]))\n",
    "                               \n",
    "    distr = st.norm(0, 1)\n",
    "    p_value =  (1 - distr.cdf(abs(z_value))) * 2\n",
    "\n",
    "    print('p-значение: ', p_value)\n",
    "    if (p_value < alpha): \n",
    "        print(\"Отвергаем нулевую гипотезу: между долями есть значимая разница\")\n",
    "    else:\n",
    "        print(\"Не получилось отвергнуть нулевую гипотезу, нет оснований считать доли разными\")"
   ]
  },
  {
   "cell_type": "markdown",
   "metadata": {},
   "source": [
    "### Делаем проверку статистической значимости различия групп по событиям:"
   ]
  },
  {
   "cell_type": "markdown",
   "metadata": {},
   "source": [
    "Делаем А-А тест, сравниваем контрольные группы A1 и A2 по всем событиям:"
   ]
  },
  {
   "cell_type": "code",
   "execution_count": 133,
   "metadata": {},
   "outputs": [
    {
     "name": "stdout",
     "output_type": "stream",
     "text": [
      "p-значение:  0.23651326366316505\n",
      "Не получилось отвергнуть нулевую гипотезу, нет оснований считать доли разными\n"
     ]
    }
   ],
   "source": [
    "#сравниваем гуппы A1 и A2 по событию OpenPaymentScreen\t\n",
    "zfunc(1112, 1132, 2255,2216)"
   ]
  },
  {
   "cell_type": "code",
   "execution_count": 134,
   "metadata": {},
   "outputs": [
    {
     "name": "stdout",
     "output_type": "stream",
     "text": [
      "p-значение:  0.3261357129982716\n",
      "Не получилось отвергнуть нулевую гипотезу, нет оснований считать доли разными\n"
     ]
    }
   ],
   "source": [
    "#сравниваем гуппы A1 и A2 по событию OpenProductCard\t\n",
    "zfunc(1071, 1085, 2255,2216)"
   ]
  },
  {
   "cell_type": "code",
   "execution_count": 135,
   "metadata": {},
   "outputs": [
    {
     "name": "stdout",
     "output_type": "stream",
     "text": [
      "p-значение:  0.17844987219688857\n",
      "Не получилось отвергнуть нулевую гипотезу, нет оснований считать доли разными\n"
     ]
    }
   ],
   "source": [
    "#сравниваем гуппы A1 и A2 по событию StartCheckProduct\n",
    "zfunc(1318, 1339, 2255,2216)"
   ]
  },
  {
   "cell_type": "code",
   "execution_count": 136,
   "metadata": {},
   "outputs": [
    {
     "name": "stdout",
     "output_type": "stream",
     "text": [
      "p-значение:  0.8497705060264933\n",
      "Не получилось отвергнуть нулевую гипотезу, нет оснований считать доли разными\n"
     ]
    }
   ],
   "source": [
    "#сравниваем гуппы A1 и A2 по событию StartReadingOffer\t\n",
    "zfunc(2206, 2166, 2255,2216)"
   ]
  },
  {
   "cell_type": "markdown",
   "metadata": {},
   "source": [
    "#### А-А тест не выявил статастически значимого различия в выборках."
   ]
  },
  {
   "cell_type": "markdown",
   "metadata": {},
   "source": [
    "#### Сравниваем по очереди контрольные группы с группой В:"
   ]
  },
  {
   "cell_type": "markdown",
   "metadata": {},
   "source": [
    "#### A1 и B"
   ]
  },
  {
   "cell_type": "code",
   "execution_count": 137,
   "metadata": {},
   "outputs": [
    {
     "name": "stdout",
     "output_type": "stream",
     "text": [
      "p-значение:  0.5342996314330497\n",
      "Не получилось отвергнуть нулевую гипотезу, нет оснований считать доли разными\n"
     ]
    }
   ],
   "source": [
    "#сравниваем гуппы A1 и B по событию OpenPaymentScreen\t\n",
    "zfunc(1112, 1096, 2255,2265)"
   ]
  },
  {
   "cell_type": "code",
   "execution_count": 138,
   "metadata": {},
   "outputs": [
    {
     "name": "stdout",
     "output_type": "stream",
     "text": [
      "p-значение:  0.5354214216487581\n",
      "Не получилось отвергнуть нулевую гипотезу, нет оснований считать доли разными\n"
     ]
    }
   ],
   "source": [
    "#сравниваем гуппы A1 и B по событию OpenProductCard\t\n",
    "zfunc(1071, 1073, 2255,2216)"
   ]
  },
  {
   "cell_type": "code",
   "execution_count": 139,
   "metadata": {},
   "outputs": [
    {
     "name": "stdout",
     "output_type": "stream",
     "text": [
      "p-значение:  0.7900962987501854\n",
      "Не получилось отвергнуть нулевую гипотезу, нет оснований считать доли разными\n"
     ]
    }
   ],
   "source": [
    "#сравниваем гуппы A1 и B по событию StartCheckProduct\n",
    "zfunc(1318, 1315, 2255,2265)"
   ]
  },
  {
   "cell_type": "code",
   "execution_count": 140,
   "metadata": {},
   "outputs": [
    {
     "name": "stdout",
     "output_type": "stream",
     "text": [
      "p-значение:  0.6609483968688323\n",
      "Не получилось отвергнуть нулевую гипотезу, нет оснований считать доли разными\n"
     ]
    }
   ],
   "source": [
    "#сравниваем гуппы A1 и A2 по событию StartReadingOffer\t\n",
    "zfunc(2206, 2220 , 2255,2265)"
   ]
  },
  {
   "cell_type": "markdown",
   "metadata": {},
   "source": [
    "#### Сравниваем группы A2 и B:"
   ]
  },
  {
   "cell_type": "markdown",
   "metadata": {},
   "source": [
    "\n",
    "OpenPaymentScreen\tOpenProductCard\tStartCheckProduct\tStartReadingOffer\tid\n",
    "exp_id\t\t\t\t\t\n",
    "A1\t1112\t1071\t1318\t2206\t2255\n",
    "A2\t1132\t1085\t1339\t2166\t2216\n",
    "B\t1096\t1073\t1315\t2220\t2265"
   ]
  },
  {
   "cell_type": "code",
   "execution_count": 141,
   "metadata": {},
   "outputs": [
    {
     "name": "stdout",
     "output_type": "stream",
     "text": [
      "p-значение:  0.07128877064395422\n",
      "Не получилось отвергнуть нулевую гипотезу, нет оснований считать доли разными\n"
     ]
    }
   ],
   "source": [
    "#сравниваем гуппы A1 и B по событию OpenPaymentScreen\t\n",
    "zfunc(1132, 1096, 2216,2265)"
   ]
  },
  {
   "cell_type": "code",
   "execution_count": 142,
   "metadata": {},
   "outputs": [
    {
     "name": "stdout",
     "output_type": "stream",
     "text": [
      "p-значение:  0.2871673884225485\n",
      "Не получилось отвергнуть нулевую гипотезу, нет оснований считать доли разными\n"
     ]
    }
   ],
   "source": [
    "#сравниваем гуппы A1 и B по событию OpenProductCard\t\n",
    "zfunc(1085, 1073, 2216,2265)"
   ]
  },
  {
   "cell_type": "code",
   "execution_count": 143,
   "metadata": {},
   "outputs": [
    {
     "name": "stdout",
     "output_type": "stream",
     "text": [
      "p-значение:  0.10697657408290495\n",
      "Не получилось отвергнуть нулевую гипотезу, нет оснований считать доли разными\n"
     ]
    }
   ],
   "source": [
    "#сравниваем гуппы A1 и B по событию OpenProductCard\t\n",
    "zfunc(1339, 1315, 2216,2265)"
   ]
  },
  {
   "cell_type": "code",
   "execution_count": 144,
   "metadata": {},
   "outputs": [
    {
     "name": "stdout",
     "output_type": "stream",
     "text": [
      "p-значение:  0.10697657408290495\n",
      "Не получилось отвергнуть нулевую гипотезу, нет оснований считать доли разными\n"
     ]
    }
   ],
   "source": [
    "#сравниваем гуппы A1 и B по событию StartCheckProduct\n",
    "zfunc(1339, 1315, 2216,2265)"
   ]
  },
  {
   "cell_type": "code",
   "execution_count": 145,
   "metadata": {},
   "outputs": [
    {
     "name": "stdout",
     "output_type": "stream",
     "text": [
      "p-значение:  0.5311297624671363\n",
      "Не получилось отвергнуть нулевую гипотезу, нет оснований считать доли разными\n"
     ]
    }
   ],
   "source": [
    "#сравниваем гуппы A1 и B по событию StartReadingOffer\n",
    "zfunc(2166, 2220, 2216,2265)"
   ]
  },
  {
   "cell_type": "markdown",
   "metadata": {},
   "source": [
    "### Выводы :"
   ]
  },
  {
   "cell_type": "markdown",
   "metadata": {},
   "source": [
    "####   На всех восьми тестах не получилось отвергнуть нулевую гипотезу.\n",
    "\n",
    "Даже если увеличить уровень критический уровень статистической значимости до 0.1, это не изменит результат.\n",
    "\n",
    "\n",
    "  Можно с большой долей вероятности утверждать, что наличие чата не влияет на конверсию.\n",
    " \n",
    " Доля уникальных пользователей, совершивших событие, резко падает(почти 40%) от первого события(главная страница) до второго(каталог). С каталога до корзины значително меньше. Из корзины до оплаты доходит подавляющее большинтво."
   ]
  },
  {
   "cell_type": "code",
   "execution_count": null,
   "metadata": {},
   "outputs": [],
   "source": []
  }
 ],
 "metadata": {
  "kernelspec": {
   "display_name": "Python 3",
   "language": "python",
   "name": "python3"
  },
  "language_info": {
   "codemirror_mode": {
    "name": "ipython",
    "version": 3
   },
   "file_extension": ".py",
   "mimetype": "text/x-python",
   "name": "python",
   "nbconvert_exporter": "python",
   "pygments_lexer": "ipython3",
   "version": "3.7.4"
  }
 },
 "nbformat": 4,
 "nbformat_minor": 2
}
